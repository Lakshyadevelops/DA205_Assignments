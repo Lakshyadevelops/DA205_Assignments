{
 "cells": [
  {
   "attachments": {},
   "cell_type": "markdown",
   "metadata": {},
   "source": [
    "# Linear Regression for gold price price prdiction<br>\n",
    "#### Lakshya Garg<br> 211000027"
   ]
  },
  {
   "cell_type": "code",
   "execution_count": 1,
   "metadata": {},
   "outputs": [],
   "source": [
    "import matplotlib.pyplot as plt\n",
    "import numpy as np\n",
    "import pandas as pd \n",
    "from datetime import datetime\n",
    "from sklearn import linear_model\n",
    "from sklearn.metrics import mean_squared_error"
   ]
  },
  {
   "attachments": {},
   "cell_type": "markdown",
   "metadata": {},
   "source": [
    "### Loaded Libraries"
   ]
  },
  {
   "cell_type": "code",
   "execution_count": 2,
   "metadata": {},
   "outputs": [],
   "source": [
    "custom_date_parser = lambda x: datetime.strptime(x,\"%d-%m-%Y\")\n",
    "# Custom Parser to read date time "
   ]
  },
  {
   "cell_type": "code",
   "execution_count": 3,
   "metadata": {},
   "outputs": [
    {
     "name": "stdout",
     "output_type": "stream",
     "text": [
      "Date           datetime64[ns]\n",
      "Open                   object\n",
      "High                   object\n",
      "Low                    object\n",
      "Close*                 object\n",
      "Adj Close**            object\n",
      "dtype: object\n"
     ]
    },
    {
     "data": {
      "text/html": [
       "<div>\n",
       "<style scoped>\n",
       "    .dataframe tbody tr th:only-of-type {\n",
       "        vertical-align: middle;\n",
       "    }\n",
       "\n",
       "    .dataframe tbody tr th {\n",
       "        vertical-align: top;\n",
       "    }\n",
       "\n",
       "    .dataframe thead th {\n",
       "        text-align: right;\n",
       "    }\n",
       "</style>\n",
       "<table border=\"1\" class=\"dataframe\">\n",
       "  <thead>\n",
       "    <tr style=\"text-align: right;\">\n",
       "      <th></th>\n",
       "      <th>Date</th>\n",
       "      <th>Open</th>\n",
       "      <th>High</th>\n",
       "      <th>Low</th>\n",
       "      <th>Close*</th>\n",
       "      <th>Adj Close**</th>\n",
       "    </tr>\n",
       "  </thead>\n",
       "  <tbody>\n",
       "    <tr>\n",
       "      <th>0</th>\n",
       "      <td>2022-12-30</td>\n",
       "      <td>1,817.00</td>\n",
       "      <td>1,822.30</td>\n",
       "      <td>1,816.80</td>\n",
       "      <td>1,819.70</td>\n",
       "      <td>1,819.70</td>\n",
       "    </tr>\n",
       "    <tr>\n",
       "      <th>1</th>\n",
       "      <td>2022-12-01</td>\n",
       "      <td>1768.7</td>\n",
       "      <td>1826.3</td>\n",
       "      <td>1764.3</td>\n",
       "      <td>1819.7</td>\n",
       "      <td>1819.7</td>\n",
       "    </tr>\n",
       "    <tr>\n",
       "      <th>2</th>\n",
       "      <td>2022-10-31</td>\n",
       "      <td>1630.8</td>\n",
       "      <td>1778.9</td>\n",
       "      <td>1615.1</td>\n",
       "      <td>1746</td>\n",
       "      <td>1746</td>\n",
       "    </tr>\n",
       "    <tr>\n",
       "      <th>3</th>\n",
       "      <td>2022-09-30</td>\n",
       "      <td>1667.2</td>\n",
       "      <td>1728</td>\n",
       "      <td>1622.8</td>\n",
       "      <td>1635.9</td>\n",
       "      <td>1635.9</td>\n",
       "    </tr>\n",
       "    <tr>\n",
       "      <th>4</th>\n",
       "      <td>2022-08-31</td>\n",
       "      <td>1707.9</td>\n",
       "      <td>1728.1</td>\n",
       "      <td>1620.4</td>\n",
       "      <td>1662.4</td>\n",
       "      <td>1662.4</td>\n",
       "    </tr>\n",
       "    <tr>\n",
       "      <th>5</th>\n",
       "      <td>2022-07-31</td>\n",
       "      <td>1763.9</td>\n",
       "      <td>1804.9</td>\n",
       "      <td>1708.5</td>\n",
       "      <td>1712.8</td>\n",
       "      <td>1712.8</td>\n",
       "    </tr>\n",
       "    <tr>\n",
       "      <th>6</th>\n",
       "      <td>2022-06-30</td>\n",
       "      <td>1795.5</td>\n",
       "      <td>1806.1</td>\n",
       "      <td>1679.8</td>\n",
       "      <td>1762.9</td>\n",
       "      <td>1762.9</td>\n",
       "    </tr>\n",
       "    <tr>\n",
       "      <th>7</th>\n",
       "      <td>2022-05-31</td>\n",
       "      <td>1831</td>\n",
       "      <td>1875.6</td>\n",
       "      <td>1801</td>\n",
       "      <td>1804.1</td>\n",
       "      <td>1804.1</td>\n",
       "    </tr>\n",
       "    <tr>\n",
       "      <th>8</th>\n",
       "      <td>2022-03-31</td>\n",
       "      <td>1935</td>\n",
       "      <td>1997.1</td>\n",
       "      <td>1872.9</td>\n",
       "      <td>1909.3</td>\n",
       "      <td>1909.3</td>\n",
       "    </tr>\n",
       "    <tr>\n",
       "      <th>9</th>\n",
       "      <td>2022-03-01</td>\n",
       "      <td>1908.3</td>\n",
       "      <td>2072</td>\n",
       "      <td>1893.5</td>\n",
       "      <td>1949.2</td>\n",
       "      <td>1949.2</td>\n",
       "    </tr>\n",
       "    <tr>\n",
       "      <th>10</th>\n",
       "      <td>2022-02-01</td>\n",
       "      <td>1797.2</td>\n",
       "      <td>1972.5</td>\n",
       "      <td>1787.9</td>\n",
       "      <td>1899.4</td>\n",
       "      <td>1899.4</td>\n",
       "    </tr>\n",
       "    <tr>\n",
       "      <th>11</th>\n",
       "      <td>2022-01-01</td>\n",
       "      <td>1830.1</td>\n",
       "      <td>1852.7</td>\n",
       "      <td>1778.8</td>\n",
       "      <td>1795</td>\n",
       "      <td>1795</td>\n",
       "    </tr>\n",
       "  </tbody>\n",
       "</table>\n",
       "</div>"
      ],
      "text/plain": [
       "         Date      Open      High       Low    Close* Adj Close**\n",
       "0  2022-12-30  1,817.00  1,822.30  1,816.80  1,819.70    1,819.70\n",
       "1  2022-12-01    1768.7    1826.3    1764.3    1819.7      1819.7\n",
       "2  2022-10-31    1630.8    1778.9    1615.1      1746        1746\n",
       "3  2022-09-30    1667.2      1728    1622.8    1635.9      1635.9\n",
       "4  2022-08-31    1707.9    1728.1    1620.4    1662.4      1662.4\n",
       "5  2022-07-31    1763.9    1804.9    1708.5    1712.8      1712.8\n",
       "6  2022-06-30    1795.5    1806.1    1679.8    1762.9      1762.9\n",
       "7  2022-05-31      1831    1875.6      1801    1804.1      1804.1\n",
       "8  2022-03-31      1935    1997.1    1872.9    1909.3      1909.3\n",
       "9  2022-03-01    1908.3      2072    1893.5    1949.2      1949.2\n",
       "10 2022-02-01    1797.2    1972.5    1787.9    1899.4      1899.4\n",
       "11 2022-01-01    1830.1    1852.7    1778.8      1795        1795"
      ]
     },
     "execution_count": 3,
     "metadata": {},
     "output_type": "execute_result"
    }
   ],
   "source": [
    "daily=pd.read_csv('gold_monthly.csv',parse_dates=['Date'],date_parser=custom_date_parser)\n",
    "print(daily.dtypes)\n",
    "daily"
   ]
  },
  {
   "attachments": {},
   "cell_type": "markdown",
   "metadata": {},
   "source": [
    "### Data Pre-processing <br>\n",
    "Converting object(string) data type to float"
   ]
  },
  {
   "cell_type": "code",
   "execution_count": 4,
   "metadata": {},
   "outputs": [
    {
     "name": "stdout",
     "output_type": "stream",
     "text": [
      "Date           datetime64[ns]\n",
      "Open                  float64\n",
      "High                  float64\n",
      "Low                   float64\n",
      "Close*                float64\n",
      "Adj Close**           float64\n",
      "dtype: object\n"
     ]
    },
    {
     "data": {
      "text/html": [
       "<div>\n",
       "<style scoped>\n",
       "    .dataframe tbody tr th:only-of-type {\n",
       "        vertical-align: middle;\n",
       "    }\n",
       "\n",
       "    .dataframe tbody tr th {\n",
       "        vertical-align: top;\n",
       "    }\n",
       "\n",
       "    .dataframe thead th {\n",
       "        text-align: right;\n",
       "    }\n",
       "</style>\n",
       "<table border=\"1\" class=\"dataframe\">\n",
       "  <thead>\n",
       "    <tr style=\"text-align: right;\">\n",
       "      <th></th>\n",
       "      <th>Date</th>\n",
       "      <th>Open</th>\n",
       "      <th>High</th>\n",
       "      <th>Low</th>\n",
       "      <th>Close*</th>\n",
       "      <th>Adj Close**</th>\n",
       "    </tr>\n",
       "  </thead>\n",
       "  <tbody>\n",
       "    <tr>\n",
       "      <th>0</th>\n",
       "      <td>2022-12-30</td>\n",
       "      <td>1817.0</td>\n",
       "      <td>1822.3</td>\n",
       "      <td>1816.8</td>\n",
       "      <td>1819.7</td>\n",
       "      <td>1819.7</td>\n",
       "    </tr>\n",
       "    <tr>\n",
       "      <th>1</th>\n",
       "      <td>2022-12-01</td>\n",
       "      <td>1768.7</td>\n",
       "      <td>1826.3</td>\n",
       "      <td>1764.3</td>\n",
       "      <td>1819.7</td>\n",
       "      <td>1819.7</td>\n",
       "    </tr>\n",
       "    <tr>\n",
       "      <th>2</th>\n",
       "      <td>2022-10-31</td>\n",
       "      <td>1630.8</td>\n",
       "      <td>1778.9</td>\n",
       "      <td>1615.1</td>\n",
       "      <td>1746.0</td>\n",
       "      <td>1746.0</td>\n",
       "    </tr>\n",
       "    <tr>\n",
       "      <th>3</th>\n",
       "      <td>2022-09-30</td>\n",
       "      <td>1667.2</td>\n",
       "      <td>1728.0</td>\n",
       "      <td>1622.8</td>\n",
       "      <td>1635.9</td>\n",
       "      <td>1635.9</td>\n",
       "    </tr>\n",
       "    <tr>\n",
       "      <th>4</th>\n",
       "      <td>2022-08-31</td>\n",
       "      <td>1707.9</td>\n",
       "      <td>1728.1</td>\n",
       "      <td>1620.4</td>\n",
       "      <td>1662.4</td>\n",
       "      <td>1662.4</td>\n",
       "    </tr>\n",
       "    <tr>\n",
       "      <th>5</th>\n",
       "      <td>2022-07-31</td>\n",
       "      <td>1763.9</td>\n",
       "      <td>1804.9</td>\n",
       "      <td>1708.5</td>\n",
       "      <td>1712.8</td>\n",
       "      <td>1712.8</td>\n",
       "    </tr>\n",
       "    <tr>\n",
       "      <th>6</th>\n",
       "      <td>2022-06-30</td>\n",
       "      <td>1795.5</td>\n",
       "      <td>1806.1</td>\n",
       "      <td>1679.8</td>\n",
       "      <td>1762.9</td>\n",
       "      <td>1762.9</td>\n",
       "    </tr>\n",
       "    <tr>\n",
       "      <th>7</th>\n",
       "      <td>2022-05-31</td>\n",
       "      <td>1831.0</td>\n",
       "      <td>1875.6</td>\n",
       "      <td>1801.0</td>\n",
       "      <td>1804.1</td>\n",
       "      <td>1804.1</td>\n",
       "    </tr>\n",
       "    <tr>\n",
       "      <th>8</th>\n",
       "      <td>2022-03-31</td>\n",
       "      <td>1935.0</td>\n",
       "      <td>1997.1</td>\n",
       "      <td>1872.9</td>\n",
       "      <td>1909.3</td>\n",
       "      <td>1909.3</td>\n",
       "    </tr>\n",
       "    <tr>\n",
       "      <th>9</th>\n",
       "      <td>2022-03-01</td>\n",
       "      <td>1908.3</td>\n",
       "      <td>2072.0</td>\n",
       "      <td>1893.5</td>\n",
       "      <td>1949.2</td>\n",
       "      <td>1949.2</td>\n",
       "    </tr>\n",
       "    <tr>\n",
       "      <th>10</th>\n",
       "      <td>2022-02-01</td>\n",
       "      <td>1797.2</td>\n",
       "      <td>1972.5</td>\n",
       "      <td>1787.9</td>\n",
       "      <td>1899.4</td>\n",
       "      <td>1899.4</td>\n",
       "    </tr>\n",
       "    <tr>\n",
       "      <th>11</th>\n",
       "      <td>2022-01-01</td>\n",
       "      <td>1830.1</td>\n",
       "      <td>1852.7</td>\n",
       "      <td>1778.8</td>\n",
       "      <td>1795.0</td>\n",
       "      <td>1795.0</td>\n",
       "    </tr>\n",
       "  </tbody>\n",
       "</table>\n",
       "</div>"
      ],
      "text/plain": [
       "         Date    Open    High     Low  Close*  Adj Close**\n",
       "0  2022-12-30  1817.0  1822.3  1816.8  1819.7       1819.7\n",
       "1  2022-12-01  1768.7  1826.3  1764.3  1819.7       1819.7\n",
       "2  2022-10-31  1630.8  1778.9  1615.1  1746.0       1746.0\n",
       "3  2022-09-30  1667.2  1728.0  1622.8  1635.9       1635.9\n",
       "4  2022-08-31  1707.9  1728.1  1620.4  1662.4       1662.4\n",
       "5  2022-07-31  1763.9  1804.9  1708.5  1712.8       1712.8\n",
       "6  2022-06-30  1795.5  1806.1  1679.8  1762.9       1762.9\n",
       "7  2022-05-31  1831.0  1875.6  1801.0  1804.1       1804.1\n",
       "8  2022-03-31  1935.0  1997.1  1872.9  1909.3       1909.3\n",
       "9  2022-03-01  1908.3  2072.0  1893.5  1949.2       1949.2\n",
       "10 2022-02-01  1797.2  1972.5  1787.9  1899.4       1899.4\n",
       "11 2022-01-01  1830.1  1852.7  1778.8  1795.0       1795.0"
      ]
     },
     "execution_count": 4,
     "metadata": {},
     "output_type": "execute_result"
    }
   ],
   "source": [
    "for i in daily.columns:\n",
    "    if i=='Date':\n",
    "        continue\n",
    "    else:\n",
    "        daily[i]=daily[i].str.replace(',','')\n",
    "        daily[i]=daily[i].astype(float)\n",
    "\n",
    "# daily['High']=daily['High'].astype(float)\n",
    "# daily['Date'].astype({'Date':int})\n",
    "print(daily.dtypes)\n",
    "daily"
   ]
  },
  {
   "cell_type": "code",
   "execution_count": 5,
   "metadata": {},
   "outputs": [
    {
     "data": {
      "text/html": [
       "<div>\n",
       "<style scoped>\n",
       "    .dataframe tbody tr th:only-of-type {\n",
       "        vertical-align: middle;\n",
       "    }\n",
       "\n",
       "    .dataframe tbody tr th {\n",
       "        vertical-align: top;\n",
       "    }\n",
       "\n",
       "    .dataframe thead th {\n",
       "        text-align: right;\n",
       "    }\n",
       "</style>\n",
       "<table border=\"1\" class=\"dataframe\">\n",
       "  <thead>\n",
       "    <tr style=\"text-align: right;\">\n",
       "      <th></th>\n",
       "      <th>Date</th>\n",
       "      <th>Open</th>\n",
       "      <th>High</th>\n",
       "      <th>Low</th>\n",
       "      <th>Close*</th>\n",
       "      <th>Adj Close**</th>\n",
       "    </tr>\n",
       "  </thead>\n",
       "  <tbody>\n",
       "    <tr>\n",
       "      <th>0</th>\n",
       "      <td>2022-01-01</td>\n",
       "      <td>1830.1</td>\n",
       "      <td>1852.7</td>\n",
       "      <td>1778.8</td>\n",
       "      <td>1795.0</td>\n",
       "      <td>1795.0</td>\n",
       "    </tr>\n",
       "    <tr>\n",
       "      <th>1</th>\n",
       "      <td>2022-02-01</td>\n",
       "      <td>1797.2</td>\n",
       "      <td>1972.5</td>\n",
       "      <td>1787.9</td>\n",
       "      <td>1899.4</td>\n",
       "      <td>1899.4</td>\n",
       "    </tr>\n",
       "    <tr>\n",
       "      <th>2</th>\n",
       "      <td>2022-03-01</td>\n",
       "      <td>1908.3</td>\n",
       "      <td>2072.0</td>\n",
       "      <td>1893.5</td>\n",
       "      <td>1949.2</td>\n",
       "      <td>1949.2</td>\n",
       "    </tr>\n",
       "    <tr>\n",
       "      <th>3</th>\n",
       "      <td>2022-03-31</td>\n",
       "      <td>1935.0</td>\n",
       "      <td>1997.1</td>\n",
       "      <td>1872.9</td>\n",
       "      <td>1909.3</td>\n",
       "      <td>1909.3</td>\n",
       "    </tr>\n",
       "    <tr>\n",
       "      <th>4</th>\n",
       "      <td>2022-05-31</td>\n",
       "      <td>1831.0</td>\n",
       "      <td>1875.6</td>\n",
       "      <td>1801.0</td>\n",
       "      <td>1804.1</td>\n",
       "      <td>1804.1</td>\n",
       "    </tr>\n",
       "    <tr>\n",
       "      <th>5</th>\n",
       "      <td>2022-06-30</td>\n",
       "      <td>1795.5</td>\n",
       "      <td>1806.1</td>\n",
       "      <td>1679.8</td>\n",
       "      <td>1762.9</td>\n",
       "      <td>1762.9</td>\n",
       "    </tr>\n",
       "    <tr>\n",
       "      <th>6</th>\n",
       "      <td>2022-07-31</td>\n",
       "      <td>1763.9</td>\n",
       "      <td>1804.9</td>\n",
       "      <td>1708.5</td>\n",
       "      <td>1712.8</td>\n",
       "      <td>1712.8</td>\n",
       "    </tr>\n",
       "    <tr>\n",
       "      <th>7</th>\n",
       "      <td>2022-08-31</td>\n",
       "      <td>1707.9</td>\n",
       "      <td>1728.1</td>\n",
       "      <td>1620.4</td>\n",
       "      <td>1662.4</td>\n",
       "      <td>1662.4</td>\n",
       "    </tr>\n",
       "    <tr>\n",
       "      <th>8</th>\n",
       "      <td>2022-09-30</td>\n",
       "      <td>1667.2</td>\n",
       "      <td>1728.0</td>\n",
       "      <td>1622.8</td>\n",
       "      <td>1635.9</td>\n",
       "      <td>1635.9</td>\n",
       "    </tr>\n",
       "    <tr>\n",
       "      <th>9</th>\n",
       "      <td>2022-10-31</td>\n",
       "      <td>1630.8</td>\n",
       "      <td>1778.9</td>\n",
       "      <td>1615.1</td>\n",
       "      <td>1746.0</td>\n",
       "      <td>1746.0</td>\n",
       "    </tr>\n",
       "    <tr>\n",
       "      <th>10</th>\n",
       "      <td>2022-12-01</td>\n",
       "      <td>1768.7</td>\n",
       "      <td>1826.3</td>\n",
       "      <td>1764.3</td>\n",
       "      <td>1819.7</td>\n",
       "      <td>1819.7</td>\n",
       "    </tr>\n",
       "    <tr>\n",
       "      <th>11</th>\n",
       "      <td>2022-12-30</td>\n",
       "      <td>1817.0</td>\n",
       "      <td>1822.3</td>\n",
       "      <td>1816.8</td>\n",
       "      <td>1819.7</td>\n",
       "      <td>1819.7</td>\n",
       "    </tr>\n",
       "  </tbody>\n",
       "</table>\n",
       "</div>"
      ],
      "text/plain": [
       "         Date    Open    High     Low  Close*  Adj Close**\n",
       "0  2022-01-01  1830.1  1852.7  1778.8  1795.0       1795.0\n",
       "1  2022-02-01  1797.2  1972.5  1787.9  1899.4       1899.4\n",
       "2  2022-03-01  1908.3  2072.0  1893.5  1949.2       1949.2\n",
       "3  2022-03-31  1935.0  1997.1  1872.9  1909.3       1909.3\n",
       "4  2022-05-31  1831.0  1875.6  1801.0  1804.1       1804.1\n",
       "5  2022-06-30  1795.5  1806.1  1679.8  1762.9       1762.9\n",
       "6  2022-07-31  1763.9  1804.9  1708.5  1712.8       1712.8\n",
       "7  2022-08-31  1707.9  1728.1  1620.4  1662.4       1662.4\n",
       "8  2022-09-30  1667.2  1728.0  1622.8  1635.9       1635.9\n",
       "9  2022-10-31  1630.8  1778.9  1615.1  1746.0       1746.0\n",
       "10 2022-12-01  1768.7  1826.3  1764.3  1819.7       1819.7\n",
       "11 2022-12-30  1817.0  1822.3  1816.8  1819.7       1819.7"
      ]
     },
     "execution_count": 5,
     "metadata": {},
     "output_type": "execute_result"
    }
   ],
   "source": [
    "daily.sort_values('Date',ascending=True,inplace=True,ignore_index=True)\n",
    "daily"
   ]
  },
  {
   "cell_type": "code",
   "execution_count": 6,
   "metadata": {},
   "outputs": [
    {
     "data": {
      "image/png": "[encoded data removed]",
      "text/plain": [
       "<Figure size 640x480 with 1 Axes>"
      ]
     },
     "metadata": {},
     "output_type": "display_data"
    }
   ],
   "source": [
    "plt.plot(daily['Date'],daily['High'],'ro',label='High')\n",
    "plt.plot(daily['Date'],daily['Low'],'yo',label='Low')\n",
    "plt.xticks(rotation=90)\n",
    "plt.title('High vs Low')\n",
    "plt.legend(['High','Low'])\n",
    "plt.show()\n"
   ]
  },
  {
   "cell_type": "code",
   "execution_count": 7,
   "metadata": {},
   "outputs": [
    {
     "data": {
      "image/png": "[encoded data removed]",
      "text/plain": [
       "<Figure size 640x480 with 1 Axes>"
      ]
     },
     "metadata": {},
     "output_type": "display_data"
    }
   ],
   "source": [
    "plt.plot(daily['Date'],daily['Open'],'go')\n",
    "plt.plot(daily['Date'],daily['Close*'],'yo')\n",
    "plt.xticks(rotation=90)\n",
    "plt.title('Open vs Close')\n",
    "plt.legend(['Open','Close'])\n",
    "plt.show()"
   ]
  },
  {
   "cell_type": "code",
   "execution_count": 8,
   "metadata": {},
   "outputs": [],
   "source": [
    "class LR:\n",
    "    \n",
    "    \n",
    "    def __init__(self):\n",
    "        pass    \n",
    "        \n",
    "    \n",
    "    def fit_GD(self,X_train,y_train,epochs,alpha):\n",
    "        cost_history=[]\n",
    "        self.weights=np.ones(X_train.shape[1])\n",
    "        new_weights=np.zeros(X_train.shape[1])\n",
    "        self.bias=np.random.randint(np.min(y_train),np.max(y_train))\n",
    "        for k in range(epochs):\n",
    "            cost_history.append(self.MSE(y_train,self.predict(X_train)))\n",
    "            # for i in range(X_train.shape[0]):\n",
    "            new_weights=np.average((np.matmul(X_train,self.weights)+self.bias-y_train)*self.weights)\n",
    "            # for i in range(X_train.shape[0]):\n",
    "            new_bias=np.average((np.matmul(X_train,self.weights)+self.bias-y_train))\n",
    "\n",
    "                \n",
    "            # for j in range(X_train.shape[1]):\n",
    "            self.weights-=(new_weights*alpha)\n",
    "                # updating weights\n",
    "            self.bias-=(alpha*new_bias)\n",
    "                # updating bias\n",
    "        cost_history.append(self.MSE(y_train,self.predict(X_train)))\n",
    "        return cost_history\n",
    "    \n",
    "    def fit_SGD(self,X_train,y_train,epochs,alpha):\n",
    "        cost_history=[]\n",
    "        self.weights=np.ones(X_train.shape[1])\n",
    "        new_weights=np.zeros(X_train.shape[1])\n",
    "        self.bias=np.random.randint(np.min(y_train),np.max(y_train))\n",
    "        for k in range(epochs):\n",
    "            X_train_selected=[]\n",
    "            y_train_selected=[]\n",
    "            for i in range(X_train.shape[0]):\n",
    "                key=np.random.randint(0,X_train.shape[0])\n",
    "                X_train_selected.append(X_train.loc[key])\n",
    "                y_train_selected.append(y_train.loc[key])\n",
    "            cost_history.append(self.MSE(y_train_selected,self.predict(X_train_selected)))\n",
    "            # for i in range(X_train.shape[0]):\n",
    "            new_weights=np.average((np.matmul(X_train_selected,self.weights)+self.bias-y_train_selected)*self.weights)\n",
    "            # for i in range(X_train.shape[0]):\n",
    "            new_bias=np.average((np.matmul(X_train_selected,self.weights)+self.bias-y_train_selected))\n",
    "\n",
    "                \n",
    "            # for j in range(X_train.shape[1]):\n",
    "            self.weights-=(new_weights*alpha)\n",
    "                # updating weights\n",
    "            self.bias-=(alpha*new_bias)\n",
    "                # updating bias\n",
    "        cost_history.append(self.MSE(y_train_selected,self.predict(X_train_selected)))\n",
    "        return cost_history\n",
    "\n",
    "\n",
    "    def fit_direct(self,X_train,y_train):\n",
    "        X_train_orig=X_train\n",
    "        X_train=np.hstack((X_train,np.ones((X_train.shape[0],1))))\n",
    "        self.weights=np.linalg.inv(np.dot(X_train.T,X_train)).dot(X_train.T).dot(y_train)\n",
    "        self.bias=self.weights[-1]\n",
    "        self.weights=self.weights[0:-1]\n",
    "        return self.MSE(y_train,self.predict(X_train_orig))\n",
    "\n",
    "\n",
    "    \n",
    "    def predict(self,X_test):\n",
    "        return np.matmul(X_test,self.weights)+self.bias\n",
    "        \n",
    "    \n",
    "    def MSE(self,y_true,y_pred):\n",
    "        a=y_true-y_pred\n",
    "        return np.sum(a**2)/a.shape[0]\n",
    "    # function for Mean Square Error Calculation \n",
    "    # It involves no loops it is faster (vectorized)\n",
    "\n",
    "    def SSR(self,y_true,y_pred):\n",
    "        a=y_true-y_pred\n",
    "        return np.sum(a**2)\n",
    "    \n",
    "    def SST(self,y_true,y_pred):\n",
    "        a=y_true-np.average(y_pred)\n",
    "        return np.sum(a**2)\n",
    "    \n",
    "    def SSE(self,y_true,y_pred):\n",
    "        return self.SST(y_true,y_pred)-self.SSR(y_true,y_pred)\n",
    "    \n",
    "    def R2(self,y_true,y_pred):\n",
    "        return 1-self.SSR(y_true,y_pred)/self.SST(y_true,y_pred)\n",
    "    \n",
    "    \n",
    "    \n",
    "    \n"
   ]
  },
  {
   "cell_type": "code",
   "execution_count": 9,
   "metadata": {},
   "outputs": [
    {
     "data": {
      "text/plain": [
       "12"
      ]
     },
     "execution_count": 9,
     "metadata": {},
     "output_type": "execute_result"
    }
   ],
   "source": [
    "X_train=pd.DataFrame()\n",
    "temp=[]\n",
    "for index,i in enumerate(daily['Date']):\n",
    "    temp.append(index)\n",
    "\n",
    "X_train['Date']=pd.DataFrame(temp)\n",
    "y_train=daily['High']\n",
    "X_train.shape[0]\n",
    "# y_train\n",
    "# model.MSE(np.array([2.3,8.9]),np.array([9,8]))"
   ]
  },
  {
   "cell_type": "code",
   "execution_count": 10,
   "metadata": {},
   "outputs": [],
   "source": [
    "model=LR()\n",
    "graph_GD=model.fit_GD(X_train,y_train,  15,0.003)"
   ]
  },
  {
   "cell_type": "code",
   "execution_count": 11,
   "metadata": {},
   "outputs": [],
   "source": [
    "y_pred=model.predict(X_train)"
   ]
  },
  {
   "cell_type": "code",
   "execution_count": 12,
   "metadata": {},
   "outputs": [
    {
     "name": "stdout",
     "output_type": "stream",
     "text": [
      "MSE:  42004.63475054053\n",
      "SSE:  -0.037719250831287354\n",
      "SSR:  504055.61700648634\n",
      "SST:  504055.5792872355\n",
      "R2:  -7.483153119380859e-08\n"
     ]
    }
   ],
   "source": [
    "print(\"MSE: \",model.MSE(y_train,y_pred))\n",
    "print(\"SSE: \",model.SSE(y_train,y_pred))\n",
    "print(\"SSR: \",model.SSR(y_train,y_pred))\n",
    "print(\"SST: \",model.SST(y_train,y_pred))\n",
    "print(\"R2: \",model.R2(y_train,y_pred))\n",
    "\n"
   ]
  },
  {
   "attachments": {},
   "cell_type": "markdown",
   "metadata": {},
   "source": [
    "Here R2 score megative indicates the regression is even worse than if we kept a a constant value the arithmetic mean"
   ]
  },
  {
   "cell_type": "code",
   "execution_count": 13,
   "metadata": {},
   "outputs": [
    {
     "data": {
      "image/png": "[encoded data removed]",
      "text/plain": [
       "<Figure size 640x480 with 1 Axes>"
      ]
     },
     "metadata": {},
     "output_type": "display_data"
    }
   ],
   "source": [
    "plt.plot(graph_GD)\n",
    "plt.xlabel('Epochs')\n",
    "plt.ylabel(\"Cost\")\n",
    "plt.show()"
   ]
  },
  {
   "cell_type": "code",
   "execution_count": 14,
   "metadata": {},
   "outputs": [],
   "source": [
    "graph_SGD=model.fit_SGD(X_train,y_train,15,0.003)"
   ]
  },
  {
   "cell_type": "code",
   "execution_count": 15,
   "metadata": {},
   "outputs": [
    {
     "name": "stdout",
     "output_type": "stream",
     "text": [
      "14972.095042489731\n"
     ]
    }
   ],
   "source": [
    "y_pred=model.predict(X_train)\n",
    "print(model.MSE(y_train,y_pred))"
   ]
  },
  {
   "cell_type": "code",
   "execution_count": 16,
   "metadata": {},
   "outputs": [
    {
     "data": {
      "image/png": "[encoded data removed]",
      "text/plain": [
       "<Figure size 640x480 with 1 Axes>"
      ]
     },
     "metadata": {},
     "output_type": "display_data"
    }
   ],
   "source": [
    "plt.plot(graph_SGD)\n",
    "plt.xlabel('Epochs')\n",
    "plt.ylabel(\"Cost\")\n",
    "plt.show()"
   ]
  },
  {
   "cell_type": "code",
   "execution_count": 17,
   "metadata": {},
   "outputs": [
    {
     "name": "stdout",
     "output_type": "stream",
     "text": [
      "MSE:  14972.095042489731\n",
      "SSE:  -50694.54143933731\n",
      "SSR:  179665.14050987677\n",
      "SST:  128970.59907053947\n",
      "R2:  -0.39307052773795625\n"
     ]
    }
   ],
   "source": [
    "print(\"MSE: \",model.MSE(y_train,y_pred))\n",
    "print(\"SSE: \",model.SSE(y_train,y_pred))\n",
    "print(\"SSR: \",model.SSR(y_train,y_pred))\n",
    "print(\"SST: \",model.SST(y_train,y_pred))\n",
    "print(\"R2: \",model.R2(y_train,y_pred))\n"
   ]
  },
  {
   "attachments": {},
   "cell_type": "markdown",
   "metadata": {},
   "source": [
    "Here R2 score megative indicates the regression is even worse than if we kept a a constant value the arithmetic mean"
   ]
  }
 ],
 "metadata": {
  "kernelspec": {
   "display_name": "Python 3",
   "language": "python",
   "name": "python3"
  },
  "language_info": {
   "codemirror_mode": {
    "name": "ipython",
    "version": 3
   },
   "file_extension": ".py",
   "mimetype": "text/x-python",
   "name": "python",
   "nbconvert_exporter": "python",
   "pygments_lexer": "ipython3",
   "version": "3.9.10"
  },
  "orig_nbformat": 4,
  "vscode": {
   "interpreter": {
    "hash": "11938c6bc6919ae2720b4d5011047913343b08a43b18698fd82dedb0d4417594"
   }
  }
 },
 "nbformat": 4,
 "nbformat_minor": 2
}
