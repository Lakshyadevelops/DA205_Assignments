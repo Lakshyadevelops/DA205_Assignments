{
 "cells": [
  {
   "attachments": {},
   "cell_type": "markdown",
   "metadata": {},
   "source": [
    "# Linear Regression for gold price price prdiction<br>\n",
    "#### Lakshya Garg<br> 211000027"
   ]
  },
  {
   "cell_type": "code",
   "execution_count": 76,
   "metadata": {},
   "outputs": [],
   "source": [
    "import matplotlib.pyplot as plt\n",
    "import numpy as np\n",
    "import pandas as pd \n",
    "from datetime import datetime\n",
    "from sklearn import linear_model\n",
    "from sklearn.metrics import mean_squared_error"
   ]
  },
  {
   "attachments": {},
   "cell_type": "markdown",
   "metadata": {},
   "source": [
    "### Loaded Libraries"
   ]
  },
  {
   "cell_type": "code",
   "execution_count": 77,
   "metadata": {},
   "outputs": [],
   "source": [
    "custom_date_parser = lambda x: datetime.strptime(x,\"%d-%m-%Y\")\n",
    "# Custom Parser to read date time "
   ]
  },
  {
   "cell_type": "code",
   "execution_count": 78,
   "metadata": {},
   "outputs": [
    {
     "name": "stdout",
     "output_type": "stream",
     "text": [
      "Date           datetime64[ns]\n",
      "Open                  float64\n",
      "High                  float64\n",
      "Low                   float64\n",
      "Close*                float64\n",
      "Adj Close**           float64\n",
      "dtype: object\n"
     ]
    },
    {
     "data": {
      "text/html": [
       "<div>\n",
       "<style scoped>\n",
       "    .dataframe tbody tr th:only-of-type {\n",
       "        vertical-align: middle;\n",
       "    }\n",
       "\n",
       "    .dataframe tbody tr th {\n",
       "        vertical-align: top;\n",
       "    }\n",
       "\n",
       "    .dataframe thead th {\n",
       "        text-align: right;\n",
       "    }\n",
       "</style>\n",
       "<table border=\"1\" class=\"dataframe\">\n",
       "  <thead>\n",
       "    <tr style=\"text-align: right;\">\n",
       "      <th></th>\n",
       "      <th>Date</th>\n",
       "      <th>Open</th>\n",
       "      <th>High</th>\n",
       "      <th>Low</th>\n",
       "      <th>Close*</th>\n",
       "      <th>Adj Close**</th>\n",
       "    </tr>\n",
       "  </thead>\n",
       "  <tbody>\n",
       "    <tr>\n",
       "      <th>0</th>\n",
       "      <td>2023-01-03</td>\n",
       "      <td>1836.2</td>\n",
       "      <td>1839.7</td>\n",
       "      <td>1836.2</td>\n",
       "      <td>1839.7</td>\n",
       "      <td>1839.7</td>\n",
       "    </tr>\n",
       "    <tr>\n",
       "      <th>1</th>\n",
       "      <td>2022-01-01</td>\n",
       "      <td>1830.1</td>\n",
       "      <td>1852.7</td>\n",
       "      <td>1778.8</td>\n",
       "      <td>1795.0</td>\n",
       "      <td>1795.0</td>\n",
       "    </tr>\n",
       "    <tr>\n",
       "      <th>2</th>\n",
       "      <td>2021-01-01</td>\n",
       "      <td>1912.2</td>\n",
       "      <td>1959.9</td>\n",
       "      <td>1802.0</td>\n",
       "      <td>1847.3</td>\n",
       "      <td>1847.3</td>\n",
       "    </tr>\n",
       "    <tr>\n",
       "      <th>3</th>\n",
       "      <td>2020-01-01</td>\n",
       "      <td>1518.1</td>\n",
       "      <td>1604.2</td>\n",
       "      <td>1518.0</td>\n",
       "      <td>1582.9</td>\n",
       "      <td>1582.9</td>\n",
       "    </tr>\n",
       "    <tr>\n",
       "      <th>4</th>\n",
       "      <td>2019-01-01</td>\n",
       "      <td>1286.0</td>\n",
       "      <td>1325.4</td>\n",
       "      <td>1275.3</td>\n",
       "      <td>1319.7</td>\n",
       "      <td>1319.7</td>\n",
       "    </tr>\n",
       "    <tr>\n",
       "      <th>5</th>\n",
       "      <td>2018-01-01</td>\n",
       "      <td>1302.3</td>\n",
       "      <td>1362.4</td>\n",
       "      <td>1302.3</td>\n",
       "      <td>1339.0</td>\n",
       "      <td>1339.0</td>\n",
       "    </tr>\n",
       "    <tr>\n",
       "      <th>6</th>\n",
       "      <td>2017-02-01</td>\n",
       "      <td>1211.9</td>\n",
       "      <td>1263.1</td>\n",
       "      <td>1197.9</td>\n",
       "      <td>1252.6</td>\n",
       "      <td>1252.6</td>\n",
       "    </tr>\n",
       "    <tr>\n",
       "      <th>7</th>\n",
       "      <td>2016-01-01</td>\n",
       "      <td>1063.4</td>\n",
       "      <td>1125.7</td>\n",
       "      <td>1063.2</td>\n",
       "      <td>1116.4</td>\n",
       "      <td>1116.4</td>\n",
       "    </tr>\n",
       "    <tr>\n",
       "      <th>8</th>\n",
       "      <td>2015-01-01</td>\n",
       "      <td>1184.0</td>\n",
       "      <td>1303.5</td>\n",
       "      <td>1169.5</td>\n",
       "      <td>1278.5</td>\n",
       "      <td>1278.5</td>\n",
       "    </tr>\n",
       "    <tr>\n",
       "      <th>9</th>\n",
       "      <td>2014-01-01</td>\n",
       "      <td>1204.3</td>\n",
       "      <td>1269.4</td>\n",
       "      <td>1204.3</td>\n",
       "      <td>1240.1</td>\n",
       "      <td>1240.1</td>\n",
       "    </tr>\n",
       "    <tr>\n",
       "      <th>10</th>\n",
       "      <td>2013-01-02</td>\n",
       "      <td>1672.8</td>\n",
       "      <td>1693.8</td>\n",
       "      <td>1670.0</td>\n",
       "      <td>1687.9</td>\n",
       "      <td>1687.9</td>\n",
       "    </tr>\n",
       "    <tr>\n",
       "      <th>11</th>\n",
       "      <td>2012-01-03</td>\n",
       "      <td>1568.9</td>\n",
       "      <td>1604.3</td>\n",
       "      <td>1566.0</td>\n",
       "      <td>1599.7</td>\n",
       "      <td>1599.7</td>\n",
       "    </tr>\n",
       "  </tbody>\n",
       "</table>\n",
       "</div>"
      ],
      "text/plain": [
       "         Date    Open    High     Low  Close*  Adj Close**\n",
       "0  2023-01-03  1836.2  1839.7  1836.2  1839.7       1839.7\n",
       "1  2022-01-01  1830.1  1852.7  1778.8  1795.0       1795.0\n",
       "2  2021-01-01  1912.2  1959.9  1802.0  1847.3       1847.3\n",
       "3  2020-01-01  1518.1  1604.2  1518.0  1582.9       1582.9\n",
       "4  2019-01-01  1286.0  1325.4  1275.3  1319.7       1319.7\n",
       "5  2018-01-01  1302.3  1362.4  1302.3  1339.0       1339.0\n",
       "6  2017-02-01  1211.9  1263.1  1197.9  1252.6       1252.6\n",
       "7  2016-01-01  1063.4  1125.7  1063.2  1116.4       1116.4\n",
       "8  2015-01-01  1184.0  1303.5  1169.5  1278.5       1278.5\n",
       "9  2014-01-01  1204.3  1269.4  1204.3  1240.1       1240.1\n",
       "10 2013-01-02  1672.8  1693.8  1670.0  1687.9       1687.9\n",
       "11 2012-01-03  1568.9  1604.3  1566.0  1599.7       1599.7"
      ]
     },
     "execution_count": 78,
     "metadata": {},
     "output_type": "execute_result"
    }
   ],
   "source": [
    "yearly=pd.read_csv('gold_yearly.csv',parse_dates=['Date'],date_parser=custom_date_parser)\n",
    "print(yearly.dtypes)\n",
    "yearly"
   ]
  },
  {
   "attachments": {},
   "cell_type": "markdown",
   "metadata": {},
   "source": [
    "### Data Pre-processing <br>\n",
    "Converting object(string) data type to float"
   ]
  },
  {
   "cell_type": "code",
   "execution_count": 79,
   "metadata": {},
   "outputs": [
    {
     "name": "stdout",
     "output_type": "stream",
     "text": [
      "Date           datetime64[ns]\n",
      "Open                  float64\n",
      "High                  float64\n",
      "Low                   float64\n",
      "Close*                float64\n",
      "Adj Close**           float64\n",
      "dtype: object\n"
     ]
    },
    {
     "data": {
      "text/html": [
       "<div>\n",
       "<style scoped>\n",
       "    .dataframe tbody tr th:only-of-type {\n",
       "        vertical-align: middle;\n",
       "    }\n",
       "\n",
       "    .dataframe tbody tr th {\n",
       "        vertical-align: top;\n",
       "    }\n",
       "\n",
       "    .dataframe thead th {\n",
       "        text-align: right;\n",
       "    }\n",
       "</style>\n",
       "<table border=\"1\" class=\"dataframe\">\n",
       "  <thead>\n",
       "    <tr style=\"text-align: right;\">\n",
       "      <th></th>\n",
       "      <th>Date</th>\n",
       "      <th>Open</th>\n",
       "      <th>High</th>\n",
       "      <th>Low</th>\n",
       "      <th>Close*</th>\n",
       "      <th>Adj Close**</th>\n",
       "    </tr>\n",
       "  </thead>\n",
       "  <tbody>\n",
       "    <tr>\n",
       "      <th>0</th>\n",
       "      <td>2023-01-03</td>\n",
       "      <td>1836.2</td>\n",
       "      <td>1839.7</td>\n",
       "      <td>1836.2</td>\n",
       "      <td>1839.7</td>\n",
       "      <td>1839.7</td>\n",
       "    </tr>\n",
       "    <tr>\n",
       "      <th>1</th>\n",
       "      <td>2022-01-01</td>\n",
       "      <td>1830.1</td>\n",
       "      <td>1852.7</td>\n",
       "      <td>1778.8</td>\n",
       "      <td>1795.0</td>\n",
       "      <td>1795.0</td>\n",
       "    </tr>\n",
       "    <tr>\n",
       "      <th>2</th>\n",
       "      <td>2021-01-01</td>\n",
       "      <td>1912.2</td>\n",
       "      <td>1959.9</td>\n",
       "      <td>1802.0</td>\n",
       "      <td>1847.3</td>\n",
       "      <td>1847.3</td>\n",
       "    </tr>\n",
       "    <tr>\n",
       "      <th>3</th>\n",
       "      <td>2020-01-01</td>\n",
       "      <td>1518.1</td>\n",
       "      <td>1604.2</td>\n",
       "      <td>1518.0</td>\n",
       "      <td>1582.9</td>\n",
       "      <td>1582.9</td>\n",
       "    </tr>\n",
       "    <tr>\n",
       "      <th>4</th>\n",
       "      <td>2019-01-01</td>\n",
       "      <td>1286.0</td>\n",
       "      <td>1325.4</td>\n",
       "      <td>1275.3</td>\n",
       "      <td>1319.7</td>\n",
       "      <td>1319.7</td>\n",
       "    </tr>\n",
       "    <tr>\n",
       "      <th>5</th>\n",
       "      <td>2018-01-01</td>\n",
       "      <td>1302.3</td>\n",
       "      <td>1362.4</td>\n",
       "      <td>1302.3</td>\n",
       "      <td>1339.0</td>\n",
       "      <td>1339.0</td>\n",
       "    </tr>\n",
       "    <tr>\n",
       "      <th>6</th>\n",
       "      <td>2017-02-01</td>\n",
       "      <td>1211.9</td>\n",
       "      <td>1263.1</td>\n",
       "      <td>1197.9</td>\n",
       "      <td>1252.6</td>\n",
       "      <td>1252.6</td>\n",
       "    </tr>\n",
       "    <tr>\n",
       "      <th>7</th>\n",
       "      <td>2016-01-01</td>\n",
       "      <td>1063.4</td>\n",
       "      <td>1125.7</td>\n",
       "      <td>1063.2</td>\n",
       "      <td>1116.4</td>\n",
       "      <td>1116.4</td>\n",
       "    </tr>\n",
       "    <tr>\n",
       "      <th>8</th>\n",
       "      <td>2015-01-01</td>\n",
       "      <td>1184.0</td>\n",
       "      <td>1303.5</td>\n",
       "      <td>1169.5</td>\n",
       "      <td>1278.5</td>\n",
       "      <td>1278.5</td>\n",
       "    </tr>\n",
       "    <tr>\n",
       "      <th>9</th>\n",
       "      <td>2014-01-01</td>\n",
       "      <td>1204.3</td>\n",
       "      <td>1269.4</td>\n",
       "      <td>1204.3</td>\n",
       "      <td>1240.1</td>\n",
       "      <td>1240.1</td>\n",
       "    </tr>\n",
       "    <tr>\n",
       "      <th>10</th>\n",
       "      <td>2013-01-02</td>\n",
       "      <td>1672.8</td>\n",
       "      <td>1693.8</td>\n",
       "      <td>1670.0</td>\n",
       "      <td>1687.9</td>\n",
       "      <td>1687.9</td>\n",
       "    </tr>\n",
       "    <tr>\n",
       "      <th>11</th>\n",
       "      <td>2012-01-03</td>\n",
       "      <td>1568.9</td>\n",
       "      <td>1604.3</td>\n",
       "      <td>1566.0</td>\n",
       "      <td>1599.7</td>\n",
       "      <td>1599.7</td>\n",
       "    </tr>\n",
       "  </tbody>\n",
       "</table>\n",
       "</div>"
      ],
      "text/plain": [
       "         Date    Open    High     Low  Close*  Adj Close**\n",
       "0  2023-01-03  1836.2  1839.7  1836.2  1839.7       1839.7\n",
       "1  2022-01-01  1830.1  1852.7  1778.8  1795.0       1795.0\n",
       "2  2021-01-01  1912.2  1959.9  1802.0  1847.3       1847.3\n",
       "3  2020-01-01  1518.1  1604.2  1518.0  1582.9       1582.9\n",
       "4  2019-01-01  1286.0  1325.4  1275.3  1319.7       1319.7\n",
       "5  2018-01-01  1302.3  1362.4  1302.3  1339.0       1339.0\n",
       "6  2017-02-01  1211.9  1263.1  1197.9  1252.6       1252.6\n",
       "7  2016-01-01  1063.4  1125.7  1063.2  1116.4       1116.4\n",
       "8  2015-01-01  1184.0  1303.5  1169.5  1278.5       1278.5\n",
       "9  2014-01-01  1204.3  1269.4  1204.3  1240.1       1240.1\n",
       "10 2013-01-02  1672.8  1693.8  1670.0  1687.9       1687.9\n",
       "11 2012-01-03  1568.9  1604.3  1566.0  1599.7       1599.7"
      ]
     },
     "execution_count": 79,
     "metadata": {},
     "output_type": "execute_result"
    }
   ],
   "source": [
    "for i in yearly.columns:\n",
    "    if i=='Date':\n",
    "        continue\n",
    "    else:\n",
    "        yearly[i]=yearly[i].replace(',','')\n",
    "        yearly[i]=yearly[i].astype(float)\n",
    "\n",
    "# yearly['High']=yearly['High'].astype(float)\n",
    "# yearly['Date'].astype({'Date':int})\n",
    "print(yearly.dtypes)\n",
    "yearly"
   ]
  },
  {
   "cell_type": "code",
   "execution_count": 80,
   "metadata": {},
   "outputs": [
    {
     "data": {
      "text/html": [
       "<div>\n",
       "<style scoped>\n",
       "    .dataframe tbody tr th:only-of-type {\n",
       "        vertical-align: middle;\n",
       "    }\n",
       "\n",
       "    .dataframe tbody tr th {\n",
       "        vertical-align: top;\n",
       "    }\n",
       "\n",
       "    .dataframe thead th {\n",
       "        text-align: right;\n",
       "    }\n",
       "</style>\n",
       "<table border=\"1\" class=\"dataframe\">\n",
       "  <thead>\n",
       "    <tr style=\"text-align: right;\">\n",
       "      <th></th>\n",
       "      <th>Date</th>\n",
       "      <th>Open</th>\n",
       "      <th>High</th>\n",
       "      <th>Low</th>\n",
       "      <th>Close*</th>\n",
       "      <th>Adj Close**</th>\n",
       "    </tr>\n",
       "  </thead>\n",
       "  <tbody>\n",
       "    <tr>\n",
       "      <th>0</th>\n",
       "      <td>2012-01-03</td>\n",
       "      <td>1568.9</td>\n",
       "      <td>1604.3</td>\n",
       "      <td>1566.0</td>\n",
       "      <td>1599.7</td>\n",
       "      <td>1599.7</td>\n",
       "    </tr>\n",
       "    <tr>\n",
       "      <th>1</th>\n",
       "      <td>2013-01-02</td>\n",
       "      <td>1672.8</td>\n",
       "      <td>1693.8</td>\n",
       "      <td>1670.0</td>\n",
       "      <td>1687.9</td>\n",
       "      <td>1687.9</td>\n",
       "    </tr>\n",
       "    <tr>\n",
       "      <th>2</th>\n",
       "      <td>2014-01-01</td>\n",
       "      <td>1204.3</td>\n",
       "      <td>1269.4</td>\n",
       "      <td>1204.3</td>\n",
       "      <td>1240.1</td>\n",
       "      <td>1240.1</td>\n",
       "    </tr>\n",
       "    <tr>\n",
       "      <th>3</th>\n",
       "      <td>2015-01-01</td>\n",
       "      <td>1184.0</td>\n",
       "      <td>1303.5</td>\n",
       "      <td>1169.5</td>\n",
       "      <td>1278.5</td>\n",
       "      <td>1278.5</td>\n",
       "    </tr>\n",
       "    <tr>\n",
       "      <th>4</th>\n",
       "      <td>2016-01-01</td>\n",
       "      <td>1063.4</td>\n",
       "      <td>1125.7</td>\n",
       "      <td>1063.2</td>\n",
       "      <td>1116.4</td>\n",
       "      <td>1116.4</td>\n",
       "    </tr>\n",
       "    <tr>\n",
       "      <th>5</th>\n",
       "      <td>2017-02-01</td>\n",
       "      <td>1211.9</td>\n",
       "      <td>1263.1</td>\n",
       "      <td>1197.9</td>\n",
       "      <td>1252.6</td>\n",
       "      <td>1252.6</td>\n",
       "    </tr>\n",
       "    <tr>\n",
       "      <th>6</th>\n",
       "      <td>2018-01-01</td>\n",
       "      <td>1302.3</td>\n",
       "      <td>1362.4</td>\n",
       "      <td>1302.3</td>\n",
       "      <td>1339.0</td>\n",
       "      <td>1339.0</td>\n",
       "    </tr>\n",
       "    <tr>\n",
       "      <th>7</th>\n",
       "      <td>2019-01-01</td>\n",
       "      <td>1286.0</td>\n",
       "      <td>1325.4</td>\n",
       "      <td>1275.3</td>\n",
       "      <td>1319.7</td>\n",
       "      <td>1319.7</td>\n",
       "    </tr>\n",
       "    <tr>\n",
       "      <th>8</th>\n",
       "      <td>2020-01-01</td>\n",
       "      <td>1518.1</td>\n",
       "      <td>1604.2</td>\n",
       "      <td>1518.0</td>\n",
       "      <td>1582.9</td>\n",
       "      <td>1582.9</td>\n",
       "    </tr>\n",
       "    <tr>\n",
       "      <th>9</th>\n",
       "      <td>2021-01-01</td>\n",
       "      <td>1912.2</td>\n",
       "      <td>1959.9</td>\n",
       "      <td>1802.0</td>\n",
       "      <td>1847.3</td>\n",
       "      <td>1847.3</td>\n",
       "    </tr>\n",
       "    <tr>\n",
       "      <th>10</th>\n",
       "      <td>2022-01-01</td>\n",
       "      <td>1830.1</td>\n",
       "      <td>1852.7</td>\n",
       "      <td>1778.8</td>\n",
       "      <td>1795.0</td>\n",
       "      <td>1795.0</td>\n",
       "    </tr>\n",
       "    <tr>\n",
       "      <th>11</th>\n",
       "      <td>2023-01-03</td>\n",
       "      <td>1836.2</td>\n",
       "      <td>1839.7</td>\n",
       "      <td>1836.2</td>\n",
       "      <td>1839.7</td>\n",
       "      <td>1839.7</td>\n",
       "    </tr>\n",
       "  </tbody>\n",
       "</table>\n",
       "</div>"
      ],
      "text/plain": [
       "         Date    Open    High     Low  Close*  Adj Close**\n",
       "0  2012-01-03  1568.9  1604.3  1566.0  1599.7       1599.7\n",
       "1  2013-01-02  1672.8  1693.8  1670.0  1687.9       1687.9\n",
       "2  2014-01-01  1204.3  1269.4  1204.3  1240.1       1240.1\n",
       "3  2015-01-01  1184.0  1303.5  1169.5  1278.5       1278.5\n",
       "4  2016-01-01  1063.4  1125.7  1063.2  1116.4       1116.4\n",
       "5  2017-02-01  1211.9  1263.1  1197.9  1252.6       1252.6\n",
       "6  2018-01-01  1302.3  1362.4  1302.3  1339.0       1339.0\n",
       "7  2019-01-01  1286.0  1325.4  1275.3  1319.7       1319.7\n",
       "8  2020-01-01  1518.1  1604.2  1518.0  1582.9       1582.9\n",
       "9  2021-01-01  1912.2  1959.9  1802.0  1847.3       1847.3\n",
       "10 2022-01-01  1830.1  1852.7  1778.8  1795.0       1795.0\n",
       "11 2023-01-03  1836.2  1839.7  1836.2  1839.7       1839.7"
      ]
     },
     "execution_count": 80,
     "metadata": {},
     "output_type": "execute_result"
    }
   ],
   "source": [
    "yearly.sort_values('Date',ascending=True,inplace=True,ignore_index=True)\n",
    "yearly"
   ]
  },
  {
   "cell_type": "code",
   "execution_count": 81,
   "metadata": {},
   "outputs": [
    {
     "data": {
      "image/png": "[encoded data removed]",
      "text/plain": [
       "<Figure size 640x480 with 1 Axes>"
      ]
     },
     "metadata": {},
     "output_type": "display_data"
    }
   ],
   "source": [
    "plt.plot(yearly['Date'],yearly['High'],'ro',label='High')\n",
    "plt.plot(yearly['Date'],yearly['Low'],'yo',label='Low')\n",
    "plt.xticks(rotation=90)\n",
    "plt.title('High vs Low')\n",
    "plt.legend(['High','Low'])\n",
    "plt.show()\n"
   ]
  },
  {
   "cell_type": "code",
   "execution_count": 82,
   "metadata": {},
   "outputs": [
    {
     "data": {
      "image/png": "[encoded data removed]",
      "text/plain": [
       "<Figure size 640x480 with 1 Axes>"
      ]
     },
     "metadata": {},
     "output_type": "display_data"
    }
   ],
   "source": [
    "plt.plot(yearly['Date'],yearly['Open'],'go')\n",
    "plt.plot(yearly['Date'],yearly['Close*'],'yo')\n",
    "plt.xticks(rotation=90)\n",
    "plt.title('Open vs Close')\n",
    "plt.legend(['Open','Close'])\n",
    "plt.show()"
   ]
  },
  {
   "cell_type": "code",
   "execution_count": 83,
   "metadata": {},
   "outputs": [],
   "source": [
    "class LR:\n",
    "    \n",
    "    \n",
    "    def __init__(self):\n",
    "        pass    \n",
    "        \n",
    "    \n",
    "    def fit_GD(self,X_train,y_train,epochs,alpha):\n",
    "        cost_history=[]\n",
    "        self.weights=np.ones(X_train.shape[1])\n",
    "        new_weights=np.zeros(X_train.shape[1])\n",
    "        self.bias=np.random.randint(np.min(y_train),np.max(y_train))\n",
    "        for k in range(epochs):\n",
    "            cost_history.append(self.MSE(y_train,self.predict(X_train)))\n",
    "            # for i in range(X_train.shape[0]):\n",
    "            new_weights=np.average((np.matmul(X_train,self.weights)+self.bias-y_train)*self.weights)\n",
    "            # for i in range(X_train.shape[0]):\n",
    "            new_bias=np.average((np.matmul(X_train,self.weights)+self.bias-y_train))\n",
    "\n",
    "                \n",
    "            # for j in range(X_train.shape[1]):\n",
    "            self.weights-=(new_weights*alpha)\n",
    "                # updating weights\n",
    "            self.bias-=(alpha*new_bias)\n",
    "                # updating bias\n",
    "        cost_history.append(self.MSE(y_train,self.predict(X_train)))\n",
    "        return cost_history\n",
    "\n",
    "\n",
    "    def fit_direct(self,X_train,y_train):\n",
    "        X_train_orig=X_train\n",
    "        X_train=np.hstack((X_train,np.ones((X_train.shape[0],1))))\n",
    "        self.weights=np.linalg.inv(np.dot(X_train.T,X_train)).dot(X_train.T).dot(y_train)\n",
    "        self.bias=self.weights[-1]\n",
    "        self.weights=self.weights[0:-1]\n",
    "        return self.MSE(y_train,self.predict(X_train_orig))\n",
    "\n",
    "\n",
    "    \n",
    "    def predict(self,X_test):\n",
    "        return np.matmul(X_test,self.weights)+self.bias\n",
    "        \n",
    "    \n",
    "    def MSE(self,y_true,y_pred):\n",
    "        a=y_true-y_pred\n",
    "        return np.sum(a**2)/a.shape[0]\n",
    "    # function for Mean Square Error Calculation \n",
    "    # It involves no loops it is faster (vectorized)\n",
    "    \n"
   ]
  },
  {
   "cell_type": "code",
   "execution_count": 84,
   "metadata": {},
   "outputs": [
    {
     "data": {
      "text/plain": [
       "12"
      ]
     },
     "execution_count": 84,
     "metadata": {},
     "output_type": "execute_result"
    }
   ],
   "source": [
    "X_train=pd.DataFrame()\n",
    "temp=[]\n",
    "for index,i in enumerate(yearly['Date']):\n",
    "    temp.append(index)\n",
    "\n",
    "X_train['Date']=pd.DataFrame(temp)\n",
    "y_train=yearly['High']\n",
    "X_train.shape[0]\n",
    "# y_train\n",
    "# model.MSE(np.array([2.3,8.9]),np.array([9,8]))"
   ]
  },
  {
   "cell_type": "code",
   "execution_count": 85,
   "metadata": {},
   "outputs": [
    {
     "data": {
      "text/html": [
       "<style>#sk-container-id-6 {color: black;background-color: white;}#sk-container-id-6 pre{padding: 0;}#sk-container-id-6 div.sk-toggleable {background-color: white;}#sk-container-id-6 label.sk-toggleable__label {cursor: pointer;display: block;width: 100%;margin-bottom: 0;padding: 0.3em;box-sizing: border-box;text-align: center;}#sk-container-id-6 label.sk-toggleable__label-arrow:before {content: \"▸\";float: left;margin-right: 0.25em;color: #696969;}#sk-container-id-6 label.sk-toggleable__label-arrow:hover:before {color: black;}#sk-container-id-6 div.sk-estimator:hover label.sk-toggleable__label-arrow:before {color: black;}#sk-container-id-6 div.sk-toggleable__content {max-height: 0;max-width: 0;overflow: hidden;text-align: left;background-color: #f0f8ff;}#sk-container-id-6 div.sk-toggleable__content pre {margin: 0.2em;color: black;border-radius: 0.25em;background-color: #f0f8ff;}#sk-container-id-6 input.sk-toggleable__control:checked~div.sk-toggleable__content {max-height: 200px;max-width: 100%;overflow: auto;}#sk-container-id-6 input.sk-toggleable__control:checked~label.sk-toggleable__label-arrow:before {content: \"▾\";}#sk-container-id-6 div.sk-estimator input.sk-toggleable__control:checked~label.sk-toggleable__label {background-color: #d4ebff;}#sk-container-id-6 div.sk-label input.sk-toggleable__control:checked~label.sk-toggleable__label {background-color: #d4ebff;}#sk-container-id-6 input.sk-hidden--visually {border: 0;clip: rect(1px 1px 1px 1px);clip: rect(1px, 1px, 1px, 1px);height: 1px;margin: -1px;overflow: hidden;padding: 0;position: absolute;width: 1px;}#sk-container-id-6 div.sk-estimator {font-family: monospace;background-color: #f0f8ff;border: 1px dotted black;border-radius: 0.25em;box-sizing: border-box;margin-bottom: 0.5em;}#sk-container-id-6 div.sk-estimator:hover {background-color: #d4ebff;}#sk-container-id-6 div.sk-parallel-item::after {content: \"\";width: 100%;border-bottom: 1px solid gray;flex-grow: 1;}#sk-container-id-6 div.sk-label:hover label.sk-toggleable__label {background-color: #d4ebff;}#sk-container-id-6 div.sk-serial::before {content: \"\";position: absolute;border-left: 1px solid gray;box-sizing: border-box;top: 0;bottom: 0;left: 50%;z-index: 0;}#sk-container-id-6 div.sk-serial {display: flex;flex-direction: column;align-items: center;background-color: white;padding-right: 0.2em;padding-left: 0.2em;position: relative;}#sk-container-id-6 div.sk-item {position: relative;z-index: 1;}#sk-container-id-6 div.sk-parallel {display: flex;align-items: stretch;justify-content: center;background-color: white;position: relative;}#sk-container-id-6 div.sk-item::before, #sk-container-id-6 div.sk-parallel-item::before {content: \"\";position: absolute;border-left: 1px solid gray;box-sizing: border-box;top: 0;bottom: 0;left: 50%;z-index: -1;}#sk-container-id-6 div.sk-parallel-item {display: flex;flex-direction: column;z-index: 1;position: relative;background-color: white;}#sk-container-id-6 div.sk-parallel-item:first-child::after {align-self: flex-end;width: 50%;}#sk-container-id-6 div.sk-parallel-item:last-child::after {align-self: flex-start;width: 50%;}#sk-container-id-6 div.sk-parallel-item:only-child::after {width: 0;}#sk-container-id-6 div.sk-dashed-wrapped {border: 1px dashed gray;margin: 0 0.4em 0.5em 0.4em;box-sizing: border-box;padding-bottom: 0.4em;background-color: white;}#sk-container-id-6 div.sk-label label {font-family: monospace;font-weight: bold;display: inline-block;line-height: 1.2em;}#sk-container-id-6 div.sk-label-container {text-align: center;}#sk-container-id-6 div.sk-container {/* jupyter's `normalize.less` sets `[hidden] { display: none; }` but bootstrap.min.css set `[hidden] { display: none !important; }` so we also need the `!important` here to be able to override the default hidden behavior on the sphinx rendered scikit-learn.org. See: https://github.com/scikit-learn/scikit-learn/issues/21755 */display: inline-block !important;position: relative;}#sk-container-id-6 div.sk-text-repr-fallback {display: none;}</style><div id=\"sk-container-id-6\" class=\"sk-top-container\"><div class=\"sk-text-repr-fallback\"><pre>LinearRegression()</pre><b>In a Jupyter environment, please rerun this cell to show the HTML representation or trust the notebook. <br />On GitHub, the HTML representation is unable to render, please try loading this page with nbviewer.org.</b></div><div class=\"sk-container\" hidden><div class=\"sk-item\"><div class=\"sk-estimator sk-toggleable\"><input class=\"sk-toggleable__control sk-hidden--visually\" id=\"sk-estimator-id-6\" type=\"checkbox\" checked><label for=\"sk-estimator-id-6\" class=\"sk-toggleable__label sk-toggleable__label-arrow\">LinearRegression</label><div class=\"sk-toggleable__content\"><pre>LinearRegression()</pre></div></div></div></div></div>"
      ],
      "text/plain": [
       "LinearRegression()"
      ]
     },
     "execution_count": 85,
     "metadata": {},
     "output_type": "execute_result"
    }
   ],
   "source": [
    "model_implemented=LR()\n",
    "graph_GD=model_implemented.fit_GD(X_train,y_train,  20,0.003)\n",
    "model_scikit=linear_model.LinearRegression() #Implemented Linear Regression\n",
    "model_scikit.fit(X_train,y_train) #Direct Computation using matrix inversion"
   ]
  },
  {
   "cell_type": "code",
   "execution_count": 86,
   "metadata": {},
   "outputs": [
    {
     "name": "stdout",
     "output_type": "stream",
     "text": [
      "[23.77303324] Weight/s by GD\n",
      "1385.6092485673369 Bias by GD\n"
     ]
    }
   ],
   "source": [
    "y_pred_implemented=model_implemented.predict(X_train)\n",
    "y_pred_scikit=model_scikit.predict(X_train)\n",
    "print(model_implemented.weights,\"Weight/s by GD\")\n",
    "print(model_implemented.bias,\"Bias by GD\")\n",
    "\n"
   ]
  },
  {
   "cell_type": "code",
   "execution_count": 87,
   "metadata": {},
   "outputs": [
    {
     "name": "stdout",
     "output_type": "stream",
     "text": [
      "55214.01501699066\n",
      "52574.90999320124\n",
      "Comparing MSE from scikit-direct weights calculation vs GD implemented\n"
     ]
    }
   ],
   "source": [
    "print(model_implemented.MSE(y_train,y_pred_implemented))\n",
    "print(mean_squared_error(y_train,y_pred_scikit))\n",
    "print(\"Comparing MSE from scikit-direct weights calculation vs GD implemented\")"
   ]
  },
  {
   "cell_type": "code",
   "execution_count": 88,
   "metadata": {},
   "outputs": [
    {
     "data": {
      "image/png": "[encoded data removed]",
      "text/plain": [
       "<Figure size 640x480 with 1 Axes>"
      ]
     },
     "metadata": {},
     "output_type": "display_data"
    }
   ],
   "source": [
    "plt.plot(graph_GD)\n",
    "plt.xlabel('Epochs')\n",
    "plt.ylabel(\"Cost\")\n",
    "plt.show()"
   ]
  },
  {
   "cell_type": "code",
   "execution_count": 89,
   "metadata": {},
   "outputs": [
    {
     "name": "stdout",
     "output_type": "stream",
     "text": [
      "52574.90999320124\n",
      "52574.90999320124\n",
      "MSE same by direct method for my implementation and scikit both\n"
     ]
    }
   ],
   "source": [
    "print(model_implemented.fit_direct(X_train,y_train))\n",
    "print(mean_squared_error(y_train,y_pred_scikit))\n",
    "print(\"MSE same by direct method for my implementation and scikit both\")"
   ]
  },
  {
   "cell_type": "code",
   "execution_count": 90,
   "metadata": {},
   "outputs": [
    {
     "name": "stdout",
     "output_type": "stream",
     "text": [
      "Prediction for Next Year\n"
     ]
    },
    {
     "data": {
      "text/plain": [
       "1806.909557109557"
      ]
     },
     "execution_count": 90,
     "metadata": {},
     "output_type": "execute_result"
    }
   ],
   "source": [
    "print(\"Prediction for Next Year\")\n",
    "model_implemented.predict([X_train.shape[0]+1])"
   ]
  },
  {
   "cell_type": "code",
   "execution_count": null,
   "metadata": {},
   "outputs": [],
   "source": []
  }
 ],
 "metadata": {
  "kernelspec": {
   "display_name": "Python 3",
   "language": "python",
   "name": "python3"
  },
  "language_info": {
   "codemirror_mode": {
    "name": "ipython",
    "version": 3
   },
   "file_extension": ".py",
   "mimetype": "text/x-python",
   "name": "python",
   "nbconvert_exporter": "python",
   "pygments_lexer": "ipython3",
   "version": "3.9.10"
  },
  "orig_nbformat": 4,
  "vscode": {
   "interpreter": {
    "hash": "11938c6bc6919ae2720b4d5011047913343b08a43b18698fd82dedb0d4417594"
   }
  }
 },
 "nbformat": 4,
 "nbformat_minor": 2
}
