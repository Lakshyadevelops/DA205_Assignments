{
 "cells": [
  {
   "attachments": {},
   "cell_type": "markdown",
   "metadata": {},
   "source": [
    "# Linear Regression for gold price price prdiction<br>\n",
    "#### Lakshya Garg<br> 211000027"
   ]
  },
  {
   "cell_type": "code",
   "execution_count": 36,
   "metadata": {},
   "outputs": [],
   "source": [
    "import matplotlib.pyplot as plt\n",
    "import numpy as np\n",
    "import pandas as pd \n",
    "from datetime import datetime\n",
    "from sklearn import linear_model\n",
    "from sklearn.metrics import mean_squared_error"
   ]
  },
  {
   "attachments": {},
   "cell_type": "markdown",
   "metadata": {},
   "source": [
    "### Loaded Libraries"
   ]
  },
  {
   "cell_type": "code",
   "execution_count": 37,
   "metadata": {},
   "outputs": [],
   "source": [
    "custom_date_parser = lambda x: datetime.strptime(x,\"%d-%m-%Y\")\n",
    "# Custom Parser to read date time "
   ]
  },
  {
   "cell_type": "code",
   "execution_count": 38,
   "metadata": {},
   "outputs": [
    {
     "name": "stdout",
     "output_type": "stream",
     "text": [
      "Date           datetime64[ns]\n",
      "Open                   object\n",
      "High                   object\n",
      "Low                    object\n",
      "Close*                 object\n",
      "Adj Close**            object\n",
      "dtype: object\n"
     ]
    },
    {
     "data": {
      "text/html": [
       "<div>\n",
       "<style scoped>\n",
       "    .dataframe tbody tr th:only-of-type {\n",
       "        vertical-align: middle;\n",
       "    }\n",
       "\n",
       "    .dataframe tbody tr th {\n",
       "        vertical-align: top;\n",
       "    }\n",
       "\n",
       "    .dataframe thead th {\n",
       "        text-align: right;\n",
       "    }\n",
       "</style>\n",
       "<table border=\"1\" class=\"dataframe\">\n",
       "  <thead>\n",
       "    <tr style=\"text-align: right;\">\n",
       "      <th></th>\n",
       "      <th>Date</th>\n",
       "      <th>Open</th>\n",
       "      <th>High</th>\n",
       "      <th>Low</th>\n",
       "      <th>Close*</th>\n",
       "      <th>Adj Close**</th>\n",
       "    </tr>\n",
       "  </thead>\n",
       "  <tbody>\n",
       "    <tr>\n",
       "      <th>0</th>\n",
       "      <td>2022-12-30</td>\n",
       "      <td>1,817.00</td>\n",
       "      <td>1,822.30</td>\n",
       "      <td>1,816.80</td>\n",
       "      <td>1,819.70</td>\n",
       "      <td>1,819.70</td>\n",
       "    </tr>\n",
       "    <tr>\n",
       "      <th>1</th>\n",
       "      <td>2022-12-01</td>\n",
       "      <td>1768.7</td>\n",
       "      <td>1826.3</td>\n",
       "      <td>1764.3</td>\n",
       "      <td>1819.7</td>\n",
       "      <td>1819.7</td>\n",
       "    </tr>\n",
       "    <tr>\n",
       "      <th>2</th>\n",
       "      <td>2022-10-31</td>\n",
       "      <td>1630.8</td>\n",
       "      <td>1778.9</td>\n",
       "      <td>1615.1</td>\n",
       "      <td>1746</td>\n",
       "      <td>1746</td>\n",
       "    </tr>\n",
       "    <tr>\n",
       "      <th>3</th>\n",
       "      <td>2022-09-30</td>\n",
       "      <td>1667.2</td>\n",
       "      <td>1728</td>\n",
       "      <td>1622.8</td>\n",
       "      <td>1635.9</td>\n",
       "      <td>1635.9</td>\n",
       "    </tr>\n",
       "    <tr>\n",
       "      <th>4</th>\n",
       "      <td>2022-08-31</td>\n",
       "      <td>1707.9</td>\n",
       "      <td>1728.1</td>\n",
       "      <td>1620.4</td>\n",
       "      <td>1662.4</td>\n",
       "      <td>1662.4</td>\n",
       "    </tr>\n",
       "    <tr>\n",
       "      <th>5</th>\n",
       "      <td>2022-07-31</td>\n",
       "      <td>1763.9</td>\n",
       "      <td>1804.9</td>\n",
       "      <td>1708.5</td>\n",
       "      <td>1712.8</td>\n",
       "      <td>1712.8</td>\n",
       "    </tr>\n",
       "    <tr>\n",
       "      <th>6</th>\n",
       "      <td>2022-06-30</td>\n",
       "      <td>1795.5</td>\n",
       "      <td>1806.1</td>\n",
       "      <td>1679.8</td>\n",
       "      <td>1762.9</td>\n",
       "      <td>1762.9</td>\n",
       "    </tr>\n",
       "    <tr>\n",
       "      <th>7</th>\n",
       "      <td>2022-05-31</td>\n",
       "      <td>1831</td>\n",
       "      <td>1875.6</td>\n",
       "      <td>1801</td>\n",
       "      <td>1804.1</td>\n",
       "      <td>1804.1</td>\n",
       "    </tr>\n",
       "    <tr>\n",
       "      <th>8</th>\n",
       "      <td>2022-03-31</td>\n",
       "      <td>1935</td>\n",
       "      <td>1997.1</td>\n",
       "      <td>1872.9</td>\n",
       "      <td>1909.3</td>\n",
       "      <td>1909.3</td>\n",
       "    </tr>\n",
       "    <tr>\n",
       "      <th>9</th>\n",
       "      <td>2022-03-01</td>\n",
       "      <td>1908.3</td>\n",
       "      <td>2072</td>\n",
       "      <td>1893.5</td>\n",
       "      <td>1949.2</td>\n",
       "      <td>1949.2</td>\n",
       "    </tr>\n",
       "    <tr>\n",
       "      <th>10</th>\n",
       "      <td>2022-02-01</td>\n",
       "      <td>1797.2</td>\n",
       "      <td>1972.5</td>\n",
       "      <td>1787.9</td>\n",
       "      <td>1899.4</td>\n",
       "      <td>1899.4</td>\n",
       "    </tr>\n",
       "    <tr>\n",
       "      <th>11</th>\n",
       "      <td>2022-01-01</td>\n",
       "      <td>1830.1</td>\n",
       "      <td>1852.7</td>\n",
       "      <td>1778.8</td>\n",
       "      <td>1795</td>\n",
       "      <td>1795</td>\n",
       "    </tr>\n",
       "  </tbody>\n",
       "</table>\n",
       "</div>"
      ],
      "text/plain": [
       "         Date      Open      High       Low    Close* Adj Close**\n",
       "0  2022-12-30  1,817.00  1,822.30  1,816.80  1,819.70    1,819.70\n",
       "1  2022-12-01    1768.7    1826.3    1764.3    1819.7      1819.7\n",
       "2  2022-10-31    1630.8    1778.9    1615.1      1746        1746\n",
       "3  2022-09-30    1667.2      1728    1622.8    1635.9      1635.9\n",
       "4  2022-08-31    1707.9    1728.1    1620.4    1662.4      1662.4\n",
       "5  2022-07-31    1763.9    1804.9    1708.5    1712.8      1712.8\n",
       "6  2022-06-30    1795.5    1806.1    1679.8    1762.9      1762.9\n",
       "7  2022-05-31      1831    1875.6      1801    1804.1      1804.1\n",
       "8  2022-03-31      1935    1997.1    1872.9    1909.3      1909.3\n",
       "9  2022-03-01    1908.3      2072    1893.5    1949.2      1949.2\n",
       "10 2022-02-01    1797.2    1972.5    1787.9    1899.4      1899.4\n",
       "11 2022-01-01    1830.1    1852.7    1778.8      1795        1795"
      ]
     },
     "execution_count": 38,
     "metadata": {},
     "output_type": "execute_result"
    }
   ],
   "source": [
    "monthly=pd.read_csv('gold_monthly.csv',parse_dates=['Date'],date_parser=custom_date_parser)\n",
    "print(monthly.dtypes)\n",
    "monthly"
   ]
  },
  {
   "attachments": {},
   "cell_type": "markdown",
   "metadata": {},
   "source": [
    "### Data Pre-processing <br>\n",
    "Converting object(string) data type to float"
   ]
  },
  {
   "cell_type": "code",
   "execution_count": 39,
   "metadata": {},
   "outputs": [
    {
     "name": "stdout",
     "output_type": "stream",
     "text": [
      "Date           datetime64[ns]\n",
      "Open                  float64\n",
      "High                  float64\n",
      "Low                   float64\n",
      "Close*                float64\n",
      "Adj Close**           float64\n",
      "dtype: object\n"
     ]
    },
    {
     "data": {
      "text/html": [
       "<div>\n",
       "<style scoped>\n",
       "    .dataframe tbody tr th:only-of-type {\n",
       "        vertical-align: middle;\n",
       "    }\n",
       "\n",
       "    .dataframe tbody tr th {\n",
       "        vertical-align: top;\n",
       "    }\n",
       "\n",
       "    .dataframe thead th {\n",
       "        text-align: right;\n",
       "    }\n",
       "</style>\n",
       "<table border=\"1\" class=\"dataframe\">\n",
       "  <thead>\n",
       "    <tr style=\"text-align: right;\">\n",
       "      <th></th>\n",
       "      <th>Date</th>\n",
       "      <th>Open</th>\n",
       "      <th>High</th>\n",
       "      <th>Low</th>\n",
       "      <th>Close*</th>\n",
       "      <th>Adj Close**</th>\n",
       "    </tr>\n",
       "  </thead>\n",
       "  <tbody>\n",
       "    <tr>\n",
       "      <th>0</th>\n",
       "      <td>2022-12-30</td>\n",
       "      <td>1817.0</td>\n",
       "      <td>1822.3</td>\n",
       "      <td>1816.8</td>\n",
       "      <td>1819.7</td>\n",
       "      <td>1819.7</td>\n",
       "    </tr>\n",
       "    <tr>\n",
       "      <th>1</th>\n",
       "      <td>2022-12-01</td>\n",
       "      <td>1768.7</td>\n",
       "      <td>1826.3</td>\n",
       "      <td>1764.3</td>\n",
       "      <td>1819.7</td>\n",
       "      <td>1819.7</td>\n",
       "    </tr>\n",
       "    <tr>\n",
       "      <th>2</th>\n",
       "      <td>2022-10-31</td>\n",
       "      <td>1630.8</td>\n",
       "      <td>1778.9</td>\n",
       "      <td>1615.1</td>\n",
       "      <td>1746.0</td>\n",
       "      <td>1746.0</td>\n",
       "    </tr>\n",
       "    <tr>\n",
       "      <th>3</th>\n",
       "      <td>2022-09-30</td>\n",
       "      <td>1667.2</td>\n",
       "      <td>1728.0</td>\n",
       "      <td>1622.8</td>\n",
       "      <td>1635.9</td>\n",
       "      <td>1635.9</td>\n",
       "    </tr>\n",
       "    <tr>\n",
       "      <th>4</th>\n",
       "      <td>2022-08-31</td>\n",
       "      <td>1707.9</td>\n",
       "      <td>1728.1</td>\n",
       "      <td>1620.4</td>\n",
       "      <td>1662.4</td>\n",
       "      <td>1662.4</td>\n",
       "    </tr>\n",
       "    <tr>\n",
       "      <th>5</th>\n",
       "      <td>2022-07-31</td>\n",
       "      <td>1763.9</td>\n",
       "      <td>1804.9</td>\n",
       "      <td>1708.5</td>\n",
       "      <td>1712.8</td>\n",
       "      <td>1712.8</td>\n",
       "    </tr>\n",
       "    <tr>\n",
       "      <th>6</th>\n",
       "      <td>2022-06-30</td>\n",
       "      <td>1795.5</td>\n",
       "      <td>1806.1</td>\n",
       "      <td>1679.8</td>\n",
       "      <td>1762.9</td>\n",
       "      <td>1762.9</td>\n",
       "    </tr>\n",
       "    <tr>\n",
       "      <th>7</th>\n",
       "      <td>2022-05-31</td>\n",
       "      <td>1831.0</td>\n",
       "      <td>1875.6</td>\n",
       "      <td>1801.0</td>\n",
       "      <td>1804.1</td>\n",
       "      <td>1804.1</td>\n",
       "    </tr>\n",
       "    <tr>\n",
       "      <th>8</th>\n",
       "      <td>2022-03-31</td>\n",
       "      <td>1935.0</td>\n",
       "      <td>1997.1</td>\n",
       "      <td>1872.9</td>\n",
       "      <td>1909.3</td>\n",
       "      <td>1909.3</td>\n",
       "    </tr>\n",
       "    <tr>\n",
       "      <th>9</th>\n",
       "      <td>2022-03-01</td>\n",
       "      <td>1908.3</td>\n",
       "      <td>2072.0</td>\n",
       "      <td>1893.5</td>\n",
       "      <td>1949.2</td>\n",
       "      <td>1949.2</td>\n",
       "    </tr>\n",
       "    <tr>\n",
       "      <th>10</th>\n",
       "      <td>2022-02-01</td>\n",
       "      <td>1797.2</td>\n",
       "      <td>1972.5</td>\n",
       "      <td>1787.9</td>\n",
       "      <td>1899.4</td>\n",
       "      <td>1899.4</td>\n",
       "    </tr>\n",
       "    <tr>\n",
       "      <th>11</th>\n",
       "      <td>2022-01-01</td>\n",
       "      <td>1830.1</td>\n",
       "      <td>1852.7</td>\n",
       "      <td>1778.8</td>\n",
       "      <td>1795.0</td>\n",
       "      <td>1795.0</td>\n",
       "    </tr>\n",
       "  </tbody>\n",
       "</table>\n",
       "</div>"
      ],
      "text/plain": [
       "         Date    Open    High     Low  Close*  Adj Close**\n",
       "0  2022-12-30  1817.0  1822.3  1816.8  1819.7       1819.7\n",
       "1  2022-12-01  1768.7  1826.3  1764.3  1819.7       1819.7\n",
       "2  2022-10-31  1630.8  1778.9  1615.1  1746.0       1746.0\n",
       "3  2022-09-30  1667.2  1728.0  1622.8  1635.9       1635.9\n",
       "4  2022-08-31  1707.9  1728.1  1620.4  1662.4       1662.4\n",
       "5  2022-07-31  1763.9  1804.9  1708.5  1712.8       1712.8\n",
       "6  2022-06-30  1795.5  1806.1  1679.8  1762.9       1762.9\n",
       "7  2022-05-31  1831.0  1875.6  1801.0  1804.1       1804.1\n",
       "8  2022-03-31  1935.0  1997.1  1872.9  1909.3       1909.3\n",
       "9  2022-03-01  1908.3  2072.0  1893.5  1949.2       1949.2\n",
       "10 2022-02-01  1797.2  1972.5  1787.9  1899.4       1899.4\n",
       "11 2022-01-01  1830.1  1852.7  1778.8  1795.0       1795.0"
      ]
     },
     "execution_count": 39,
     "metadata": {},
     "output_type": "execute_result"
    }
   ],
   "source": [
    "for i in monthly.columns:\n",
    "    if i=='Date':\n",
    "        continue\n",
    "    else:\n",
    "        monthly[i]=monthly[i].str.replace(',','')\n",
    "        monthly[i]=monthly[i].astype(float)\n",
    "\n",
    "# monthly['High']=monthly['High'].astype(float)\n",
    "# monthly['Date'].astype({'Date':int})\n",
    "print(monthly.dtypes)\n",
    "monthly"
   ]
  },
  {
   "cell_type": "code",
   "execution_count": 40,
   "metadata": {},
   "outputs": [
    {
     "data": {
      "text/html": [
       "<div>\n",
       "<style scoped>\n",
       "    .dataframe tbody tr th:only-of-type {\n",
       "        vertical-align: middle;\n",
       "    }\n",
       "\n",
       "    .dataframe tbody tr th {\n",
       "        vertical-align: top;\n",
       "    }\n",
       "\n",
       "    .dataframe thead th {\n",
       "        text-align: right;\n",
       "    }\n",
       "</style>\n",
       "<table border=\"1\" class=\"dataframe\">\n",
       "  <thead>\n",
       "    <tr style=\"text-align: right;\">\n",
       "      <th></th>\n",
       "      <th>Date</th>\n",
       "      <th>Open</th>\n",
       "      <th>High</th>\n",
       "      <th>Low</th>\n",
       "      <th>Close*</th>\n",
       "      <th>Adj Close**</th>\n",
       "    </tr>\n",
       "  </thead>\n",
       "  <tbody>\n",
       "    <tr>\n",
       "      <th>0</th>\n",
       "      <td>2022-01-01</td>\n",
       "      <td>1830.1</td>\n",
       "      <td>1852.7</td>\n",
       "      <td>1778.8</td>\n",
       "      <td>1795.0</td>\n",
       "      <td>1795.0</td>\n",
       "    </tr>\n",
       "    <tr>\n",
       "      <th>1</th>\n",
       "      <td>2022-02-01</td>\n",
       "      <td>1797.2</td>\n",
       "      <td>1972.5</td>\n",
       "      <td>1787.9</td>\n",
       "      <td>1899.4</td>\n",
       "      <td>1899.4</td>\n",
       "    </tr>\n",
       "    <tr>\n",
       "      <th>2</th>\n",
       "      <td>2022-03-01</td>\n",
       "      <td>1908.3</td>\n",
       "      <td>2072.0</td>\n",
       "      <td>1893.5</td>\n",
       "      <td>1949.2</td>\n",
       "      <td>1949.2</td>\n",
       "    </tr>\n",
       "    <tr>\n",
       "      <th>3</th>\n",
       "      <td>2022-03-31</td>\n",
       "      <td>1935.0</td>\n",
       "      <td>1997.1</td>\n",
       "      <td>1872.9</td>\n",
       "      <td>1909.3</td>\n",
       "      <td>1909.3</td>\n",
       "    </tr>\n",
       "    <tr>\n",
       "      <th>4</th>\n",
       "      <td>2022-05-31</td>\n",
       "      <td>1831.0</td>\n",
       "      <td>1875.6</td>\n",
       "      <td>1801.0</td>\n",
       "      <td>1804.1</td>\n",
       "      <td>1804.1</td>\n",
       "    </tr>\n",
       "    <tr>\n",
       "      <th>5</th>\n",
       "      <td>2022-06-30</td>\n",
       "      <td>1795.5</td>\n",
       "      <td>1806.1</td>\n",
       "      <td>1679.8</td>\n",
       "      <td>1762.9</td>\n",
       "      <td>1762.9</td>\n",
       "    </tr>\n",
       "    <tr>\n",
       "      <th>6</th>\n",
       "      <td>2022-07-31</td>\n",
       "      <td>1763.9</td>\n",
       "      <td>1804.9</td>\n",
       "      <td>1708.5</td>\n",
       "      <td>1712.8</td>\n",
       "      <td>1712.8</td>\n",
       "    </tr>\n",
       "    <tr>\n",
       "      <th>7</th>\n",
       "      <td>2022-08-31</td>\n",
       "      <td>1707.9</td>\n",
       "      <td>1728.1</td>\n",
       "      <td>1620.4</td>\n",
       "      <td>1662.4</td>\n",
       "      <td>1662.4</td>\n",
       "    </tr>\n",
       "    <tr>\n",
       "      <th>8</th>\n",
       "      <td>2022-09-30</td>\n",
       "      <td>1667.2</td>\n",
       "      <td>1728.0</td>\n",
       "      <td>1622.8</td>\n",
       "      <td>1635.9</td>\n",
       "      <td>1635.9</td>\n",
       "    </tr>\n",
       "    <tr>\n",
       "      <th>9</th>\n",
       "      <td>2022-10-31</td>\n",
       "      <td>1630.8</td>\n",
       "      <td>1778.9</td>\n",
       "      <td>1615.1</td>\n",
       "      <td>1746.0</td>\n",
       "      <td>1746.0</td>\n",
       "    </tr>\n",
       "    <tr>\n",
       "      <th>10</th>\n",
       "      <td>2022-12-01</td>\n",
       "      <td>1768.7</td>\n",
       "      <td>1826.3</td>\n",
       "      <td>1764.3</td>\n",
       "      <td>1819.7</td>\n",
       "      <td>1819.7</td>\n",
       "    </tr>\n",
       "    <tr>\n",
       "      <th>11</th>\n",
       "      <td>2022-12-30</td>\n",
       "      <td>1817.0</td>\n",
       "      <td>1822.3</td>\n",
       "      <td>1816.8</td>\n",
       "      <td>1819.7</td>\n",
       "      <td>1819.7</td>\n",
       "    </tr>\n",
       "  </tbody>\n",
       "</table>\n",
       "</div>"
      ],
      "text/plain": [
       "         Date    Open    High     Low  Close*  Adj Close**\n",
       "0  2022-01-01  1830.1  1852.7  1778.8  1795.0       1795.0\n",
       "1  2022-02-01  1797.2  1972.5  1787.9  1899.4       1899.4\n",
       "2  2022-03-01  1908.3  2072.0  1893.5  1949.2       1949.2\n",
       "3  2022-03-31  1935.0  1997.1  1872.9  1909.3       1909.3\n",
       "4  2022-05-31  1831.0  1875.6  1801.0  1804.1       1804.1\n",
       "5  2022-06-30  1795.5  1806.1  1679.8  1762.9       1762.9\n",
       "6  2022-07-31  1763.9  1804.9  1708.5  1712.8       1712.8\n",
       "7  2022-08-31  1707.9  1728.1  1620.4  1662.4       1662.4\n",
       "8  2022-09-30  1667.2  1728.0  1622.8  1635.9       1635.9\n",
       "9  2022-10-31  1630.8  1778.9  1615.1  1746.0       1746.0\n",
       "10 2022-12-01  1768.7  1826.3  1764.3  1819.7       1819.7\n",
       "11 2022-12-30  1817.0  1822.3  1816.8  1819.7       1819.7"
      ]
     },
     "execution_count": 40,
     "metadata": {},
     "output_type": "execute_result"
    }
   ],
   "source": [
    "monthly.sort_values('Date',ascending=True,inplace=True,ignore_index=True)\n",
    "monthly"
   ]
  },
  {
   "cell_type": "code",
   "execution_count": 41,
   "metadata": {},
   "outputs": [
    {
     "data": {
      "image/png": "[encoded data removed]",
      "text/plain": [
       "<Figure size 640x480 with 1 Axes>"
      ]
     },
     "metadata": {},
     "output_type": "display_data"
    }
   ],
   "source": [
    "plt.plot(monthly['Date'],monthly['High'],'ro',label='High')\n",
    "plt.plot(monthly['Date'],monthly['Low'],'yo',label='Low')\n",
    "plt.xticks(rotation=90)\n",
    "plt.title('High vs Low')\n",
    "plt.legend(['High','Low'])\n",
    "plt.show()\n"
   ]
  },
  {
   "cell_type": "code",
   "execution_count": 42,
   "metadata": {},
   "outputs": [
    {
     "data": {
      "image/png": "[encoded data removed]",
      "text/plain": [
       "<Figure size 640x480 with 1 Axes>"
      ]
     },
     "metadata": {},
     "output_type": "display_data"
    }
   ],
   "source": [
    "plt.plot(monthly['Date'],monthly['Open'],'go')\n",
    "plt.plot(monthly['Date'],monthly['Close*'],'yo')\n",
    "plt.xticks(rotation=90)\n",
    "plt.title('Open vs Close')\n",
    "plt.legend(['Open','Close'])\n",
    "plt.show()"
   ]
  },
  {
   "cell_type": "code",
   "execution_count": 43,
   "metadata": {},
   "outputs": [],
   "source": [
    "class LR:\n",
    "    \n",
    "    \n",
    "    def __init__(self):\n",
    "        pass    \n",
    "        \n",
    "    \n",
    "    def fit_GD(self,X_train,y_train,epochs,alpha):\n",
    "        cost_history=[]\n",
    "        self.weights=np.ones(X_train.shape[1])\n",
    "        new_weights=np.zeros(X_train.shape[1])\n",
    "        self.bias=np.random.randint(np.min(y_train),np.max(y_train))\n",
    "        for k in range(epochs):\n",
    "            cost_history.append(self.MSE(y_train,self.predict(X_train)))\n",
    "            # for i in range(X_train.shape[0]):\n",
    "            new_weights=np.average((np.matmul(X_train,self.weights)+self.bias-y_train)*self.weights)\n",
    "            # for i in range(X_train.shape[0]):\n",
    "            new_bias=np.average((np.matmul(X_train,self.weights)+self.bias-y_train))\n",
    "\n",
    "                \n",
    "            # for j in range(X_train.shape[1]):\n",
    "            self.weights-=(new_weights*alpha)\n",
    "                # updating weights\n",
    "            self.bias-=(alpha*new_bias)\n",
    "                # updating bias\n",
    "        cost_history.append(self.MSE(y_train,self.predict(X_train)))\n",
    "        return cost_history\n",
    "\n",
    "\n",
    "    def fit_direct(self,X_train,y_train):\n",
    "        X_train_orig=X_train\n",
    "        X_train=np.hstack((X_train,np.ones((X_train.shape[0],1))))\n",
    "        self.weights=np.linalg.inv(np.dot(X_train.T,X_train)).dot(X_train.T).dot(y_train)\n",
    "        self.bias=self.weights[-1]\n",
    "        self.weights=self.weights[0:-1]\n",
    "        return self.MSE(y_train,self.predict(X_train_orig))\n",
    "\n",
    "\n",
    "    \n",
    "    def predict(self,X_test):\n",
    "        return np.matmul(X_test,self.weights)+self.bias\n",
    "        \n",
    "    \n",
    "    def MSE(self,y_true,y_pred):\n",
    "        a=y_true-y_pred\n",
    "        return np.sum(a**2)/a.shape[0]\n",
    "    # function for Mean Square Error Calculation \n",
    "    # It involves no loops it is faster (vectorized)\n",
    "    \n"
   ]
  },
  {
   "cell_type": "code",
   "execution_count": 44,
   "metadata": {},
   "outputs": [
    {
     "data": {
      "text/plain": [
       "12"
      ]
     },
     "execution_count": 44,
     "metadata": {},
     "output_type": "execute_result"
    }
   ],
   "source": [
    "X_train=pd.DataFrame()\n",
    "temp=[]\n",
    "for index,i in enumerate(monthly['Date']):\n",
    "    temp.append(index)\n",
    "\n",
    "X_train['Date']=pd.DataFrame(temp)\n",
    "y_train=monthly['High']\n",
    "X_train.shape[0]\n",
    "# y_train\n",
    "# model.MSE(np.array([2.3,8.9]),np.array([9,8]))"
   ]
  },
  {
   "cell_type": "code",
   "execution_count": 45,
   "metadata": {},
   "outputs": [
    {
     "data": {
      "text/html": [
       "<style>#sk-container-id-3 {color: black;background-color: white;}#sk-container-id-3 pre{padding: 0;}#sk-container-id-3 div.sk-toggleable {background-color: white;}#sk-container-id-3 label.sk-toggleable__label {cursor: pointer;display: block;width: 100%;margin-bottom: 0;padding: 0.3em;box-sizing: border-box;text-align: center;}#sk-container-id-3 label.sk-toggleable__label-arrow:before {content: \"▸\";float: left;margin-right: 0.25em;color: #696969;}#sk-container-id-3 label.sk-toggleable__label-arrow:hover:before {color: black;}#sk-container-id-3 div.sk-estimator:hover label.sk-toggleable__label-arrow:before {color: black;}#sk-container-id-3 div.sk-toggleable__content {max-height: 0;max-width: 0;overflow: hidden;text-align: left;background-color: #f0f8ff;}#sk-container-id-3 div.sk-toggleable__content pre {margin: 0.2em;color: black;border-radius: 0.25em;background-color: #f0f8ff;}#sk-container-id-3 input.sk-toggleable__control:checked~div.sk-toggleable__content {max-height: 200px;max-width: 100%;overflow: auto;}#sk-container-id-3 input.sk-toggleable__control:checked~label.sk-toggleable__label-arrow:before {content: \"▾\";}#sk-container-id-3 div.sk-estimator input.sk-toggleable__control:checked~label.sk-toggleable__label {background-color: #d4ebff;}#sk-container-id-3 div.sk-label input.sk-toggleable__control:checked~label.sk-toggleable__label {background-color: #d4ebff;}#sk-container-id-3 input.sk-hidden--visually {border: 0;clip: rect(1px 1px 1px 1px);clip: rect(1px, 1px, 1px, 1px);height: 1px;margin: -1px;overflow: hidden;padding: 0;position: absolute;width: 1px;}#sk-container-id-3 div.sk-estimator {font-family: monospace;background-color: #f0f8ff;border: 1px dotted black;border-radius: 0.25em;box-sizing: border-box;margin-bottom: 0.5em;}#sk-container-id-3 div.sk-estimator:hover {background-color: #d4ebff;}#sk-container-id-3 div.sk-parallel-item::after {content: \"\";width: 100%;border-bottom: 1px solid gray;flex-grow: 1;}#sk-container-id-3 div.sk-label:hover label.sk-toggleable__label {background-color: #d4ebff;}#sk-container-id-3 div.sk-serial::before {content: \"\";position: absolute;border-left: 1px solid gray;box-sizing: border-box;top: 0;bottom: 0;left: 50%;z-index: 0;}#sk-container-id-3 div.sk-serial {display: flex;flex-direction: column;align-items: center;background-color: white;padding-right: 0.2em;padding-left: 0.2em;position: relative;}#sk-container-id-3 div.sk-item {position: relative;z-index: 1;}#sk-container-id-3 div.sk-parallel {display: flex;align-items: stretch;justify-content: center;background-color: white;position: relative;}#sk-container-id-3 div.sk-item::before, #sk-container-id-3 div.sk-parallel-item::before {content: \"\";position: absolute;border-left: 1px solid gray;box-sizing: border-box;top: 0;bottom: 0;left: 50%;z-index: -1;}#sk-container-id-3 div.sk-parallel-item {display: flex;flex-direction: column;z-index: 1;position: relative;background-color: white;}#sk-container-id-3 div.sk-parallel-item:first-child::after {align-self: flex-end;width: 50%;}#sk-container-id-3 div.sk-parallel-item:last-child::after {align-self: flex-start;width: 50%;}#sk-container-id-3 div.sk-parallel-item:only-child::after {width: 0;}#sk-container-id-3 div.sk-dashed-wrapped {border: 1px dashed gray;margin: 0 0.4em 0.5em 0.4em;box-sizing: border-box;padding-bottom: 0.4em;background-color: white;}#sk-container-id-3 div.sk-label label {font-family: monospace;font-weight: bold;display: inline-block;line-height: 1.2em;}#sk-container-id-3 div.sk-label-container {text-align: center;}#sk-container-id-3 div.sk-container {/* jupyter's `normalize.less` sets `[hidden] { display: none; }` but bootstrap.min.css set `[hidden] { display: none !important; }` so we also need the `!important` here to be able to override the default hidden behavior on the sphinx rendered scikit-learn.org. See: https://github.com/scikit-learn/scikit-learn/issues/21755 */display: inline-block !important;position: relative;}#sk-container-id-3 div.sk-text-repr-fallback {display: none;}</style><div id=\"sk-container-id-3\" class=\"sk-top-container\"><div class=\"sk-text-repr-fallback\"><pre>LinearRegression()</pre><b>In a Jupyter environment, please rerun this cell to show the HTML representation or trust the notebook. <br />On GitHub, the HTML representation is unable to render, please try loading this page with nbviewer.org.</b></div><div class=\"sk-container\" hidden><div class=\"sk-item\"><div class=\"sk-estimator sk-toggleable\"><input class=\"sk-toggleable__control sk-hidden--visually\" id=\"sk-estimator-id-3\" type=\"checkbox\" checked><label for=\"sk-estimator-id-3\" class=\"sk-toggleable__label sk-toggleable__label-arrow\">LinearRegression</label><div class=\"sk-toggleable__content\"><pre>LinearRegression()</pre></div></div></div></div></div>"
      ],
      "text/plain": [
       "LinearRegression()"
      ]
     },
     "execution_count": 45,
     "metadata": {},
     "output_type": "execute_result"
    }
   ],
   "source": [
    "model_implemented=LR()\n",
    "graph_GD=model_implemented.fit_GD(X_train,y_train,  20,0.003)\n",
    "model_scikit=linear_model.LinearRegression() #Implemented Linear Regression\n",
    "model_scikit.fit(X_train,y_train) #Direct Computation using matrix inversion"
   ]
  },
  {
   "cell_type": "code",
   "execution_count": 46,
   "metadata": {},
   "outputs": [
    {
     "name": "stdout",
     "output_type": "stream",
     "text": [
      "[0.03198129] Weight/s by GD\n",
      "1904.8379960074371 Bias by GD\n"
     ]
    }
   ],
   "source": [
    "y_pred_implemented=model_implemented.predict(X_train)\n",
    "y_pred_scikit=model_scikit.predict(X_train)\n",
    "print(model_implemented.weights,\"Weight/s by GD\")\n",
    "print(model_implemented.bias,\"Bias by GD\")\n",
    "\n"
   ]
  },
  {
   "cell_type": "code",
   "execution_count": 47,
   "metadata": {},
   "outputs": [
    {
     "name": "stdout",
     "output_type": "stream",
     "text": [
      "13006.469814757926\n",
      "6135.003540209788\n",
      "Comparing MSE from scikit-direct weights calculation vs GD implemented\n"
     ]
    }
   ],
   "source": [
    "print(model_implemented.MSE(y_train,y_pred_implemented))\n",
    "print(mean_squared_error(y_train,y_pred_scikit))\n",
    "print(\"Comparing MSE from scikit-direct weights calculation vs GD implemented\")"
   ]
  },
  {
   "cell_type": "code",
   "execution_count": 48,
   "metadata": {},
   "outputs": [
    {
     "data": {
      "image/png": "[encoded data removed]",
      "text/plain": [
       "<Figure size 640x480 with 1 Axes>"
      ]
     },
     "metadata": {},
     "output_type": "display_data"
    }
   ],
   "source": [
    "plt.plot(graph_GD)\n",
    "plt.xlabel('Epochs')\n",
    "plt.ylabel(\"Cost\")\n",
    "plt.show()"
   ]
  },
  {
   "cell_type": "code",
   "execution_count": 49,
   "metadata": {},
   "outputs": [
    {
     "name": "stdout",
     "output_type": "stream",
     "text": [
      "6135.003540209788\n",
      "6135.003540209788\n",
      "MSE same by Matrix method for my implementation and scikit both\n"
     ]
    }
   ],
   "source": [
    "print(model_implemented.fit_direct(X_train,y_train))\n",
    "print(mean_squared_error(y_train,y_pred_scikit))\n",
    "print(\"MSE same by Matrix method for my implementation and scikit both\")"
   ]
  },
  {
   "cell_type": "code",
   "execution_count": 50,
   "metadata": {},
   "outputs": [
    {
     "name": "stdout",
     "output_type": "stream",
     "text": [
      "Prediction for Next Year\n"
     ]
    },
    {
     "data": {
      "text/plain": [
       "1711.377622377622"
      ]
     },
     "execution_count": 50,
     "metadata": {},
     "output_type": "execute_result"
    }
   ],
   "source": [
    "print(\"Prediction for Next Year\")\n",
    "model_implemented.predict([X_train.shape[0]+1])"
   ]
  },
  {
   "cell_type": "code",
   "execution_count": null,
   "metadata": {},
   "outputs": [],
   "source": []
  }
 ],
 "metadata": {
  "kernelspec": {
   "display_name": "Python 3",
   "language": "python",
   "name": "python3"
  },
  "language_info": {
   "codemirror_mode": {
    "name": "ipython",
    "version": 3
   },
   "file_extension": ".py",
   "mimetype": "text/x-python",
   "name": "python",
   "nbconvert_exporter": "python",
   "pygments_lexer": "ipython3",
   "version": "3.9.10"
  },
  "orig_nbformat": 4,
  "vscode": {
   "interpreter": {
    "hash": "11938c6bc6919ae2720b4d5011047913343b08a43b18698fd82dedb0d4417594"
   }
  }
 },
 "nbformat": 4,
 "nbformat_minor": 2
}
